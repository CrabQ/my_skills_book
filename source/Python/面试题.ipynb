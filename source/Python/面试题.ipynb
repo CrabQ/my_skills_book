{
 "metadata": {
  "language_info": {
   "codemirror_mode": {
    "name": "ipython",
    "version": 3
   },
   "file_extension": ".py",
   "mimetype": "text/x-python",
   "name": "python",
   "nbconvert_exporter": "python",
   "pygments_lexer": "ipython3",
   "version": "3.7.6-final"
  },
  "orig_nbformat": 2,
  "kernelspec": {
   "name": "python_defaultSpec_1598498094592",
   "display_name": "Python 3.7.6 64-bit (conda)"
  }
 },
 "nbformat": 4,
 "nbformat_minor": 2,
 "cells": [
  {
   "cell_type": "markdown",
   "metadata": {
    "tags": []
   },
   "source": [
    "import time\n",
    "print(time.time())"
   ]
  },
  {
   "cell_type": "markdown",
   "metadata": {},
   "source": [
    "1. python和其他编程语言对比? 类似java, c等"
   ]
  },
  {
   "cell_type": "markdown",
   "metadata": {},
   "source": [
    "python语言，是一种面向对象、直译式计算机程序设计语言，Python语法简洁而清晰，具有丰富和强大的类库。它常被昵称为胶水语言，它能够很轻松的把用其他语言制作的各种模块（尤其是C/C++）轻松地联结在一起。常见的一种应用情形是，使用python快速生成程序的原型（有时甚至是程序的最终界面），然后对其中有特别要求的部分，用更合适的语言改写。\n",
    "Python是完全面向对象的语言。函数、模块、数字、字符串都是对象。并且完全支持继承、重载、派生、多继承，有益于增强源代码的复用性。Python支持重载运算符和动态类型。相对于Lisp这种传统的函数式编程语言，Python对函数式设计只提供了有限的支持。有两个标准库(functools, itertools)提供了Haskell和Standard ML中久经考验的函数式程序设计工具。Python本身被设计为可扩充的。并非所有的特性和功能都集成到语言核心。Python提供了丰富的API和工具，以便程序员能够轻松地使用C语言、C++、Cython来编写扩充模块。Python编译器本身也可以被集成到其它需要脚本语言的程序内。因此，很多人还把Python作为一种“胶水语言”（glue language）使用。使用Python将其他语言编写的程序进行集成和封装。"
   ]
  },
  {
   "cell_type": "markdown",
   "metadata": {},
   "source": [
    "2. 解释型语言和编译型语言?"
   ]
  },
  {
   "cell_type": "markdown",
   "metadata": {},
   "source": [
    "编译型: 需要编译器, 先编译后运行, 一次编译无限运行, 修改需重新编译, 运行速度快. 如C, C++\n",
    "解释型: 无需编译, 跨平台好, 一份代码到处运行, 速度慢, 依赖解释器运行"
   ]
  },
  {
   "cell_type": "markdown",
   "metadata": {},
   "source": [
    "3. python解释器种类已经特点?"
   ]
  },
  {
   "cell_type": "markdown",
   "metadata": {},
   "source": [
    "CPython: 最广泛, C语言开发\n",
    "IPython: 基于CPython之上的交互式解释器, 功能一致, 增强交互\n",
    "PyPy: 采用JIT技术, 对python代码进行动态编译, 目标是执行速度\n",
    "JPython: 运行在java平台上的python解释器, 可以把python代码编译成java字节码执行\n",
    "IronPython: 类似JPython, 运行在微软.net平台上的python解释器"
   ]
  },
  {
   "cell_type": "markdown",
   "metadata": {},
   "source": [
    "4. 位和字节?"
   ]
  },
  {
   "cell_type": "markdown",
   "metadata": {},
   "source": [
    "8 bit = 1 Bytes\n",
    "\n",
    "二进制数系统中,位简记为b,也称为比特,每个二进制数字0或1就是一个位(bit)\n",
    "\n",
    "位是数据存储的最小单位,其中8 bit 就称为一个字节(Byte)"
   ]
  },
  {
   "cell_type": "markdown",
   "metadata": {},
   "source": [
    "5. b, B, KB, MB, GB?"
   ]
  },
  {
   "cell_type": "markdown",
   "metadata": {},
   "source": [
    "8 bit = 1B\n",
    "\n",
    "1024 B = 1KB\n",
    "\n",
    "1024 KB = 1MB\n",
    "\n",
    "1024 MB = 1GB"
   ]
  },
  {
   "cell_type": "markdown",
   "metadata": {},
   "source": [
    "6. PEP8规范"
   ]
  },
  {
   "cell_type": "markdown",
   "metadata": {},
   "source": [
    "- 使用space表示缩进, 而不是用tab\n",
    "- 每层缩进4个空格\n",
    "- 每行字符数不应超过79\n",
    "- 函数和类之间应用两个空行隔开\n",
    "- 同一个类中各方法用一个空行隔开\n",
    "- 函数, 变量和属性用小写字母表示, 下划线命名法"
   ]
  },
  {
   "cell_type": "markdown",
   "metadata": {},
   "source": [
    "7. OR AND 结果"
   ]
  },
  {
   "cell_type": "code",
   "execution_count": null,
   "metadata": {},
   "outputs": [],
   "source": [
    "1 or 3 # 1\n",
    "1 and 3 # 3\n",
    "0 and 2 or 1 # 1\n",
    "0 and 2 or 1 or 4 # 1\n",
    "0 and 2 and 1 # 0\n",
    "0 or False and 1 # False"
   ]
  },
  {
   "cell_type": "markdown",
   "metadata": {},
   "source": [
    "8. ascii, unicode, utf-8, gbk区别\n"
   ]
  },
  {
   "cell_type": "markdown",
   "metadata": {},
   "source": [
    "'''\n",
    "ascii：\n",
    "在计算机内部，所有信息最终都是一个二进制值。每一个二进制位（bit），有0和1两种状态，因此，8个二进制位可以组合出256种状态，这被称为字节（byte)。上个世纪60年代，美国制定了一套字符编码，对英文字符与二进制之间做了联系，这被称为ASCII码，一直沿用至今。\n",
    "ASCII码一共规定了128个字符，比如SPACE是32，A是65，这128个符号只咱用了一个字节的后面七位，最前面的一位统一规定为0。\n",
    "\n",
    "\n",
    "unicode：\n",
    "世界上有多种编码方法，同一个二进制数字可以被解释称不同的符号。因此，在打开一个文本文件时候，就必须知道它的编码方式，用错误的编码方式打开，就会出现乱码。\n",
    "Unicode编码，这是一种所有符号的编码。\n",
    "Unicode显然是一个巨大的集合，现在的规模可以容纳100多万个符号。每个符号的编码都不一样，比如U+0041表示英语的大写字母A，U+4e25表示汉字严。\n",
    "在Unicode庞大的字符集的优势下，还存在一个问题，比如一个汉字，“严”的Unicode是十六进制4e25，转成二进制足足有15位，也就是，这个符号需要2个字节，表示其他字符还存在3个字节或者更多。计算机怎么区别三个字节表示的是同一个符号而不是分开表示三个呢？如果Unicode统一规定，每个符号用3个字节表示，但是某些字母显然不需要3个，那么就浪费了空间，文本文件大小超出了很多，这显然是不合理的。直到UTF8字符编码出现了。\n",
    "\n",
    "\n",
    "utf-8：\n",
    "UTF8的最大特点是，它是一种变长编码，可以使用1-4个字节表示一个符号，根据不同的符号来变化字节长度。\n",
    "UTF8编码规则只有两条：\n",
    "1）对于单字节的符号，字节的第一位设为0，后面的7位为这个符号的Unicode码。因此，对于英文字母，UTF8编码和ASCII编码是相同的。\n",
    "2）对于非单字节（假设字节长度为N）的符号，第一个字节的前N位都设为1，第N+1设为0，后面字节的前两位一律设为10，剩下的没有提及的二进制，全部为这个符号的Unicode码。\n",
    "\n",
    "\n",
    "gbk：\n",
    "GBK编码是对GB2312的扩展，完全兼容GB2312。采用双字节编码方案，剔出xx7F码位，共23940个码位，共收录汉字和图形符号21886个，GBK编码方案于1995年12月15日发布。它几乎完美支持汉字，因此经常会遇见GBK与Unicode的转换。\n",
    "\n",
    "1，各个编码之间的二进制，是不能互相识别的，会产生乱码。\n",
    "2，文件的存储，传输，不能是unicode （只能是utf-8 utf-16 gbk gbk2312 ascii等）\n",
    "'''"
   ]
  },
  {
   "cell_type": "markdown",
   "metadata": {},
   "source": [
    "9. 字节码和机器码?\n"
   ]
  },
  {
   "cell_type": "markdown",
   "metadata": {},
   "source": [
    "字节码是一种中间状态(中间码)的二进制代码(文件). 需要直译器转译之后才能成为机器码"
   ]
  },
  {
   "cell_type": "markdown",
   "metadata": {},
   "source": [
    "10. 三元运算编写格式?"
   ]
  },
  {
   "cell_type": "code",
   "execution_count": null,
   "metadata": {},
   "outputs": [],
   "source": [
    "# 结果 if 条件成立 else 条件不成立结果\n",
    "True if 0>1 else False"
   ]
  },
  {
   "cell_type": "markdown",
   "metadata": {},
   "source": [
    "11. Python2和Python3区别"
   ]
  },
  {
   "cell_type": "markdown",
   "metadata": {},
   "source": [
    "- 一切返回生成式而非列表\n",
    "- 1/2 py2:0 py3:0.5\n",
    "- py2:inpu_raw() py3:input()\n",
    "- py2:默认编码ASCII py3:utf-8\n",
    "- py3新增关键字nonlocal, 非局部变量"
   ]
  },
  {
   "cell_type": "markdown",
   "metadata": {},
   "source": [
    "12. 一行代码实现数值交换"
   ]
  },
  {
   "cell_type": "code",
   "execution_count": null,
   "metadata": {},
   "outputs": [],
   "source": [
    "a, b = 1, 2\n",
    "a, b = b, a"
   ]
  },
  {
   "cell_type": "markdown",
   "metadata": {},
   "source": [
    "13. py2和py3中的int和long区别?\n"
   ]
  },
  {
   "cell_type": "markdown",
   "metadata": {},
   "source": [
    "- py2: int表示整型, long表示长整型\n",
    "- py3: 只有int"
   ]
  },
  {
   "cell_type": "markdown",
   "metadata": {},
   "source": [
    "14. xrange和range区别?\n"
   ]
  },
  {
   "cell_type": "markdown",
   "metadata": {},
   "source": [
    "xrange和range完全相同, range返回list, xrange返回生成器\n",
    "\n",
    "py3, 取消了range, 重命名xrange为range"
   ]
  },
  {
   "cell_type": "markdown",
   "metadata": {},
   "source": [
    "15. '我是小明啊', 反转\n"
   ]
  },
  {
   "cell_type": "code",
   "execution_count": null,
   "metadata": {},
   "outputs": [],
   "source": [
    "'我是小明啊'[::-1]"
   ]
  },
  {
   "cell_type": "markdown",
   "metadata": {},
   "source": [
    "16. 文件操作时, xreadlines和readlines区别"
   ]
  },
  {
   "cell_type": "markdown",
   "metadata": {},
   "source": [
    "- xreadlines: 返回迭代器, python2.3之后已不推荐, 直接使用for迭代文件对象\n",
    "- readlines: 把所有文件内容一次性读入内存, 返回列表"
   ]
  },
  {
   "cell_type": "markdown",
   "metadata": {},
   "source": [
    "17. 列举布尔值为False的常见值"
   ]
  },
  {
   "cell_type": "markdown",
   "metadata": {},
   "source": [
    "'', [], {}, None, 0, (), False"
   ]
  },
  {
   "cell_type": "markdown",
   "metadata": {},
   "source": [
    "18. is和==区别?"
   ]
  },
  {
   "cell_type": "markdown",
   "metadata": {},
   "source": [
    "- is: 内存地址ID是否相同\n",
    "- ==: 值是否相同"
   ]
  },
  {
   "cell_type": "markdown",
   "metadata": {},
   "source": [
    "19. 什么情况下, y != x-(x-y) 成立?"
   ]
  },
  {
   "cell_type": "code",
   "execution_count": null,
   "metadata": {},
   "outputs": [],
   "source": [
    "# x,y 是两个不相等的非空集合\n",
    "x = set([1,2,3,4,5])\n",
    "y = set([3,4,5,6,7,8,9])\n",
    "x-(x-y)"
   ]
  },
  {
   "cell_type": "markdown",
   "metadata": {},
   "source": [
    "20. 按照字段value进行排序"
   ]
  },
  {
   "cell_type": "code",
   "execution_count": null,
   "metadata": {},
   "outputs": [],
   "source": [
    "dict = {'a':24, 'g':52, 'i':12, 'k':33}\n",
    "sorted(dict.items(), key=lambda x: x[1])"
   ]
  },
  {
   "cell_type": "markdown",
   "metadata": {},
   "source": [
    "21. 字典和json区别"
   ]
  },
  {
   "cell_type": "markdown",
   "metadata": {},
   "source": [
    "- 字典: 一种数据结构, 字典的key必须可hash\n",
    "- json: 数据的一种表现形式, key必须是字符串, 必须用双引号"
   ]
  },
  {
   "cell_type": "markdown",
   "metadata": {},
   "source": [
    "22. 可变类型和不可变类型?\n"
   ]
  },
  {
   "cell_type": "markdown",
   "metadata": {},
   "source": [
    "- 可变类型: 同一内存地址中的值可变, 字典, 集合, 列表\n",
    "- 不可变类型: 同一内存地址中的值不变, 字符串, 数字, 元祖, "
   ]
  },
  {
   "cell_type": "markdown",
   "metadata": {},
   "source": [
    "23. 字典的数据有无先后排序?"
   ]
  },
  {
   "cell_type": "markdown",
   "metadata": {},
   "source": [
    "python3.6之后有序"
   ]
  },
  {
   "cell_type": "markdown",
   "metadata": {},
   "source": [
    "24. 字典推导式?"
   ]
  },
  {
   "cell_type": "code",
   "execution_count": null,
   "metadata": {},
   "outputs": [],
   "source": [
    "{k:v for k,v in enumerate(range(5)) }"
   ]
  },
  {
   "cell_type": "markdown",
   "metadata": {},
   "source": [
    "25. dict的items()和iteritems()区别?"
   ]
  },
  {
   "cell_type": "markdown",
   "metadata": {},
   "source": [
    "- items(): 列表形式返回\n",
    "- iteritems(): 返回迭代器, python3用items()代替"
   ]
  },
  {
   "cell_type": "markdown",
   "metadata": {},
   "source": [
    "26. 按照age由大到小排序"
   ]
  },
  {
   "cell_type": "code",
   "execution_count": null,
   "metadata": {},
   "outputs": [],
   "source": [
    "list = [{'name':'a', 'age':20},{'name':'b', 'age':30}, {'name':'c', 'age':35}]\n",
    "sorted(list, key=lambda x: x['age'], reverse=True)"
   ]
  },
  {
   "cell_type": "markdown",
   "metadata": {},
   "source": [
    "27. 常用的字符串格式化方式"
   ]
  },
  {
   "cell_type": "code",
   "execution_count": null,
   "metadata": {},
   "outputs": [],
   "source": [
    "name = 'hhm'\n",
    "# 占位符\n",
    "'hi %s'%name\n",
    "# format\n",
    "'hi {}'.format(name)\n",
    "# f-string\n",
    "f'hi {name}'"
   ]
  },
  {
   "cell_type": "markdown",
   "metadata": {},
   "source": [
    "28. 字符串驻留机制"
   ]
  },
  {
   "cell_type": "markdown",
   "metadata": {},
   "source": [
    "- 短字符串赋值给多个对象时内存中只有一个副本,\n",
    "- 长字符串不遵守驻留机制\n",
    "\n",
    "驻留适用范围: 数字,字符和下划线组成的python标识符和整数\\[-5, 256\\]"
   ]
  },
  {
   "cell_type": "markdown",
   "metadata": {},
   "source": [
    "29. 代码输出?"
   ]
  },
  {
   "cell_type": "code",
   "execution_count": null,
   "metadata": {},
   "outputs": [],
   "source": [
    "list  = [1,2,3,4]\n",
    "list[6:]"
   ]
  },
  {
   "cell_type": "markdown",
   "metadata": {},
   "source": [
    "30. 列表生成式产生一个公差为11的等差数列"
   ]
  },
  {
   "cell_type": "code",
   "execution_count": null,
   "metadata": {},
   "outputs": [],
   "source": [
    "list(range(1, 100, 11))\n",
    "[x*11 for x in range(10)]"
   ]
  },
  {
   "cell_type": "markdown",
   "metadata": {},
   "source": [
    "31, 找出两个列表相同的元素和不同的元素"
   ]
  },
  {
   "cell_type": "code",
   "execution_count": null,
   "metadata": {},
   "outputs": [],
   "source": [
    "a = [1,3,5,7,9]\n",
    "b = [1,2,3,4,5]\n",
    "set(a) & set(b)\n",
    "set(a) ^ set(b)"
   ]
  },
  {
   "cell_type": "markdown",
   "metadata": {},
   "source": [
    "32. 删除list里面的重复元素"
   ]
  },
  {
   "cell_type": "code",
   "execution_count": null,
   "metadata": {
    "tags": []
   },
   "outputs": [],
   "source": [
    "a = [1,1,1,3,3,5,5,4,4,6,6,6,3,1,5,4,2]\n",
    "\n",
    "sorted(set(a), key=a.index)\n"
   ]
  },
  {
   "cell_type": "markdown",
   "metadata": {},
   "source": [
    "33. 下面这段代码的输出?"
   ]
  },
  {
   "cell_type": "code",
   "execution_count": null,
   "metadata": {
    "tags": []
   },
   "outputs": [],
   "source": [
    "def extendlist(val, list=[]):\n",
    "    list.append(val)\n",
    "    return list\n",
    "list1 = extendlist(10)\n",
    "list2 = extendlist(123, [])\n",
    "list3 = extendlist('a')\n",
    "\n",
    "print(list1, list2, list3)"
   ]
  },
  {
   "cell_type": "code",
   "execution_count": null,
   "metadata": {},
   "outputs": [],
   "source": [
    "# list1 : [10, 'a']\n",
    "# list2 : [123]\n",
    "# list3 : [10, 'a']\n",
    "# 默认列表只有在函数定义的时候创建一次"
   ]
  },
  {
   "cell_type": "markdown",
   "metadata": {},
   "source": [
    "34. 按照执行效率高低排序"
   ]
  },
  {
   "cell_type": "code",
   "execution_count": null,
   "metadata": {},
   "outputs": [],
   "source": [
    "def f1(lIn):\n",
    "\t\tl1 = sorted(lIn)\n",
    "\t\tl2 = [i for i in l1 if i<0.5]\n",
    "\t\treturn [i*i for i in l2]\n",
    "\n",
    "def f2(lIn):\n",
    "\t\tl1 = [i for i in l1 if i<0.5]\n",
    "\t\tl2 = sorted(l1)\n",
    "\t\treturn [i*i for i in l2]\n",
    "        \n",
    "def f3(lIn):\n",
    " \tl1 = [i*i for i in lIn]\n",
    " \tl2 = sorted(l1)\n",
    " \treturn [i for i in l1 if i<(0.5*0.5)]"
   ]
  },
  {
   "cell_type": "code",
   "execution_count": null,
   "metadata": {
    "tags": []
   },
   "outputs": [],
   "source": [
    "import random\n",
    "import cProfile\n",
    "lIn = [random.random() for i in range(100000)]\n",
    "cProfile.run('f1(lIn)')\n",
    "cProfile.run('f2(lIn)')\n",
    "cProfile.run('f3(lIn)')\n",
    "\n",
    "# 执行效率: f2>f1>f3"
   ]
  },
  {
   "cell_type": "markdown",
   "metadata": {},
   "source": [
    "35. 对一个所有元素都是字符串的列表进行大小写无关的排序\n"
   ]
  },
  {
   "cell_type": "code",
   "execution_count": null,
   "metadata": {},
   "outputs": [],
   "source": [
    "list = ['this', 'is', 'a', 'boy', '!']\n",
    "sorted(list, key=lambda x: x.upper())\n",
    "sorted(list)"
   ]
  },
  {
   "cell_type": "markdown",
   "metadata": {},
   "source": [
    "36. 列举字符串,列表,元祖,字典常用的5个方法"
   ]
  },
  {
   "cell_type": "code",
   "execution_count": null,
   "metadata": {},
   "outputs": [],
   "source": [
    "# 字符串: split, upper, repalce, startswith, lower, join, strip, reverse\n",
    "# 列表: append, pop, remove, del, index, count, sort\n",
    "# 元祖: index, count, len, dir\n",
    "# 字典 update, pop,  del, values, items, get, clear"
   ]
  },
  {
   "cell_type": "markdown",
   "metadata": {},
   "source": [
    "37. 什么是反射?有何作用?"
   ]
  },
  {
   "cell_type": "code",
   "execution_count": null,
   "metadata": {},
   "outputs": [],
   "source": [
    "# 用字符串的方式去访问对象的属性，调用对象的方法\n",
    "# hasattr, getattr, setattr, delattr"
   ]
  },
  {
   "cell_type": "markdown",
   "metadata": {},
   "source": [
    "38. 浅拷贝与深拷贝"
   ]
  },
  {
   "cell_type": "code",
   "execution_count": null,
   "metadata": {},
   "outputs": [],
   "source": [
    "# 浅拷贝: 仅仅拷贝第一层\n",
    "# 深拷贝: 拷贝所有层"
   ]
  },
  {
   "cell_type": "markdown",
   "metadata": {},
   "source": [
    "39. Python垃圾回收机制"
   ]
  },
  {
   "cell_type": "code",
   "execution_count": null,
   "metadata": {},
   "outputs": [],
   "source": [
    "# 引用计数为主(有循环引用问题, 通过分代回收解决), 标记-清除为辅"
   ]
  },
  {
   "cell_type": "markdown",
   "metadata": {},
   "source": [
    "40. 获取Python解释器版本的方法?"
   ]
  },
  {
   "cell_type": "code",
   "execution_count": null,
   "metadata": {},
   "outputs": [],
   "source": [
    "import sys\n",
    "sys.version"
   ]
  },
  {
   "cell_type": "markdown",
   "metadata": {},
   "source": [
    "41. python哪个语句能直接显示的释放内存资源?"
   ]
  },
  {
   "cell_type": "code",
   "execution_count": null,
   "metadata": {},
   "outputs": [],
   "source": [
    "import gc\n",
    "gc.collect()"
   ]
  },
  {
   "cell_type": "markdown",
   "metadata": {},
   "source": [
    "42. lambda表达式格式以及应用场景?"
   ]
  },
  {
   "cell_type": "code",
   "execution_count": null,
   "metadata": {},
   "outputs": [],
   "source": [
    "# lambda 参数: 返回值\n",
    "# 匿名函数, 不用定义函数, 只使用一次的场景\n",
    "# 与函数有相同的作用域, 但引用计数为0, 使用一次就释放\n",
    "list(filter(lambda x: x%2==0 ,[1,2,3,4,5,6]))"
   ]
  },
  {
   "cell_type": "markdown",
   "metadata": {},
   "source": [
    "43. \\*args和\\*\\*kwargs"
   ]
  },
  {
   "cell_type": "code",
   "execution_count": null,
   "metadata": {},
   "outputs": [],
   "source": [
    "# *args 接受溢出的位置参数, 将接受的参数组织成元祖\n",
    "# **kwargs 接受溢出的关键字参数, 将接收的参数组织成字典"
   ]
  },
  {
   "cell_type": "markdown",
   "metadata": {},
   "source": [
    "44. 代码输出的结果"
   ]
  },
  {
   "cell_type": "code",
   "execution_count": null,
   "metadata": {
    "tags": []
   },
   "outputs": [],
   "source": [
    "v = dict.fromkeys(['k1','k2'],[])\n",
    "v['k1'].append(666)\n",
    "print(v)\n",
    "v['k1'] = 777\n",
    "print(v)\n"
   ]
  },
  {
   "cell_type": "code",
   "execution_count": null,
   "metadata": {},
   "outputs": [],
   "source": [
    "# k1, k2 指向同一个内存地址\n",
    "# 赋值之后指向改变"
   ]
  },
  {
   "cell_type": "markdown",
   "metadata": {},
   "source": [
    "45. 一行代码实现99乘法表"
   ]
  },
  {
   "cell_type": "code",
   "execution_count": 55,
   "metadata": {
    "tags": []
   },
   "outputs": [
    {
     "output_type": "stream",
     "name": "stdout",
     "text": "1*1=1\n1*2=2\t2*2=4\n1*3=3\t2*3=6\t3*3=9\n1*4=4\t2*4=8\t3*4=12\t4*4=16\n1*5=5\t2*5=10\t3*5=15\t4*5=20\t5*5=25\n1*6=6\t2*6=12\t3*6=18\t4*6=24\t5*6=30\t6*6=36\n1*7=7\t2*7=14\t3*7=21\t4*7=28\t5*7=35\t6*7=42\t7*7=49\n1*8=8\t2*8=16\t3*8=24\t4*8=32\t5*8=40\t6*8=48\t7*8=56\t8*8=64\n1*9=9\t2*9=18\t3*9=27\t4*9=36\t5*9=45\t6*9=54\t7*9=63\t8*9=72\t9*9=81\n"
    }
   ],
   "source": [
    "print('\\n'.join(['\\t'.join([f'{i}*{j}={i*j}' for i in range(1, j+1)]) for j in range(1, 10)]))\n"
   ]
  },
  {
   "cell_type": "markdown",
   "metadata": {},
   "source": [
    "46. 比较三者区别"
   ]
  },
  {
   "cell_type": "code",
   "execution_count": null,
   "metadata": {},
   "outputs": [],
   "source": [
    "a = [1,2,3]\n",
    "b = [(1), (2), (3)]\n",
    "c = [(1,), (2,), (3,)]"
   ]
  },
  {
   "cell_type": "code",
   "execution_count": null,
   "metadata": {},
   "outputs": [],
   "source": [
    "# a和b两者值相等, a,b中元素都为数字, c为元祖\n",
    "a == b\n",
    "b == c"
   ]
  },
  {
   "cell_type": "markdown",
   "metadata": {},
   "source": [
    "47. `1 < (2 == 2)`和`1 < 2 == 2`的结果分别是什么?"
   ]
  },
  {
   "cell_type": "code",
   "execution_count": null,
   "metadata": {},
   "outputs": [],
   "source": [
    "1 < 2 == 2 \n",
    "# True\n",
    "1 < (2 == 2)"
   ]
  },
  {
   "cell_type": "markdown",
   "metadata": {},
   "source": [
    "48. 打乱一个排好序的list"
   ]
  },
  {
   "cell_type": "code",
   "execution_count": null,
   "metadata": {
    "tags": []
   },
   "outputs": [],
   "source": [
    "list = [1,2,3,4,5]\n",
    "import random\n",
    "random.shuffle(list)\n",
    "list"
   ]
  },
  {
   "cell_type": "markdown",
   "metadata": {},
   "source": [
    "49. 如何查找一个字符串中特定的字符? find和index差异?"
   ]
  },
  {
   "cell_type": "code",
   "execution_count": null,
   "metadata": {},
   "outputs": [],
   "source": [
    "a= 'sldjgo3ergowje'\n",
    "a.find('e')\n",
    "a.index('e')\n",
    "# find: 找到返回从0开始的下标值, 若找不到返回-1\n",
    "# index: 类似字符串的find方法, 查找不到子串, 会抛出异常"
   ]
  },
  {
   "cell_type": "markdown",
   "metadata": {},
   "source": [
    "50. 压缩`aaabbcccd`为`a3b2c3d1`"
   ]
  },
  {
   "cell_type": "code",
   "execution_count": null,
   "metadata": {},
   "outputs": [],
   "source": [
    "a = 'aaabbcccd'\n",
    "b = []\n",
    "for i in a:\n",
    "    if i not in b:\n",
    "        b.append(i)\n",
    "        b.append(str(a.count(i)))\n",
    "b\n",
    "''.join(x for x in b)"
   ]
  },
  {
   "cell_type": "markdown",
   "metadata": {},
   "source": [
    "51.完数:一个数等于它的因子之和, 如6=1+2+3, 找出1000以内的所有完数"
   ]
  },
  {
   "cell_type": "code",
   "execution_count": null,
   "metadata": {
    "tags": []
   },
   "outputs": [],
   "source": [
    "for i in range(1, 1000):\n",
    "    sum = 0\n",
    "    for j in range(1, i//2+1):\n",
    "        if i%j==0:\n",
    "            sum+=j\n",
    "    if sum==i:\n",
    "        print(i)"
   ]
  },
  {
   "cell_type": "markdown",
   "metadata": {},
   "source": [
    "52. 打印字符串的所有排列组合"
   ]
  },
  {
   "cell_type": "code",
   "execution_count": null,
   "metadata": {
    "tags": []
   },
   "outputs": [],
   "source": [
    "def perm(s=''):\n",
    "    if len(s) <= 1:\n",
    "        return [s]\n",
    "    sl = []  \n",
    "    for i in range(len(s)):  \n",
    "        for j in perm(s[0:i] + s[i + 1:]):  \n",
    "            sl.append(s[i] + j)  \n",
    "    return sl\n",
    "\n",
    "perm_nums = perm('abc')\n",
    "no_repeat_nums = list(set(perm_nums))\n",
    "print('perm_nums', len(perm_nums), perm_nums)\n",
    "print('no_repeat_nums', len(no_repeat_nums), no_repeat_nums)\n"
   ]
  },
  {
   "cell_type": "markdown",
   "metadata": {},
   "source": [
    "53. 以下代码输出结果"
   ]
  },
  {
   "cell_type": "code",
   "execution_count": null,
   "metadata": {},
   "outputs": [],
   "source": [
    "x = 10\n",
    "x += x\n",
    "x -= x - x\n",
    "x\n"
   ]
  },
  {
   "cell_type": "markdown",
   "metadata": {},
   "source": [
    "54. 对于一个非空字符串,判断是否可以由一个字字符串重复多次组成"
   ]
  },
  {
   "cell_type": "code",
   "execution_count": null,
   "metadata": {
    "tags": []
   },
   "outputs": [],
   "source": [
    "def get_item(a):\n",
    "    for i in range(0, len(a)//2+1):\n",
    "        s_list = a.split(a[:i+1])\n",
    "        if len(set(s_list)) == 1:\n",
    "            return True, a[:i+1]\n",
    "    else: return False\n",
    "get_item('aaaa')"
   ]
  },
  {
   "cell_type": "markdown",
   "metadata": {},
   "source": [
    "55. 从0-99随机取出10个, 不能重复"
   ]
  },
  {
   "cell_type": "code",
   "execution_count": null,
   "metadata": {},
   "outputs": [],
   "source": [
    "import random\n",
    "a = set()\n",
    "\n",
    "while len(a)<11:\n",
    "    a.add(random.randint(0, 99))\n",
    "a"
   ]
  },
  {
   "cell_type": "markdown",
   "metadata": {},
   "source": [
    "56. python如何捕获异常"
   ]
  },
  {
   "cell_type": "code",
   "execution_count": null,
   "metadata": {
    "tags": []
   },
   "outputs": [],
   "source": [
    "try:\n",
    "    raise KeyError()\n",
    "except KeyError:\n",
    "    print('error')\n",
    "else:\n",
    "    print('not error')\n",
    "finally:\n",
    "    print('finally')"
   ]
  },
  {
   "cell_type": "markdown",
   "metadata": {},
   "source": [
    "57. enumerate用法"
   ]
  },
  {
   "cell_type": "code",
   "execution_count": null,
   "metadata": {
    "tags": []
   },
   "outputs": [],
   "source": [
    "for index, key in enumerate(range(1, 9)):\n",
    "    print(index, key)"
   ]
  },
  {
   "cell_type": "markdown",
   "metadata": {},
   "source": [
    "58. python递归的最大层数"
   ]
  },
  {
   "cell_type": "code",
   "execution_count": null,
   "metadata": {},
   "outputs": [],
   "source": [
    "# 998"
   ]
  },
  {
   "cell_type": "markdown",
   "metadata": {},
   "source": [
    "59. 列表推导式和生成器表达式的输出结果"
   ]
  },
  {
   "cell_type": "code",
   "execution_count": null,
   "metadata": {},
   "outputs": [],
   "source": [
    "[i % 2 for i in range(10)]\n",
    "(i % 2 for i in range(10))"
   ]
  },
  {
   "cell_type": "code",
   "execution_count": null,
   "metadata": {},
   "outputs": [],
   "source": [
    "# 一个返回列表, 一个返回生成器"
   ]
  },
  {
   "cell_type": "markdown",
   "metadata": {},
   "source": [
    "60. 列举常见的内置函数"
   ]
  },
  {
   "cell_type": "code",
   "execution_count": null,
   "metadata": {},
   "outputs": [],
   "source": [
    "# sorted() len() divmode() range()\n",
    "# int() str() list() dict() set() chr() ord()\n",
    "# exec() filter() type() id() isinstance() reversed()"
   ]
  },
  {
   "cell_type": "markdown",
   "metadata": {},
   "source": [
    "61. filter, map, reduce用法"
   ]
  },
  {
   "cell_type": "code",
   "execution_count": null,
   "metadata": {},
   "outputs": [],
   "source": [
    "a = [1,2,3,4,5]\n",
    "list(filter(lambda x: x%2==0, a))\n",
    "list(map(lambda x, y: x+y, a, a))\n",
    "reduce(lambda x,y: x+y+1, a)"
   ]
  },
  {
   "cell_type": "markdown",
   "metadata": {
    "tags": []
   },
   "source": [
    "62. 什么是闭包"
   ]
  },
  {
   "cell_type": "code",
   "execution_count": null,
   "metadata": {},
   "outputs": [],
   "source": [
    "# 内部函数引用外部函数的变量"
   ]
  },
  {
   "cell_type": "markdown",
   "metadata": {},
   "source": [
    "63. 使用生成器编写fib函数"
   ]
  },
  {
   "cell_type": "code",
   "execution_count": 6,
   "metadata": {
    "tags": []
   },
   "outputs": [
    {
     "output_type": "stream",
     "name": "stdout",
     "text": "1\n2\n3\n5\n8\n13\n21\n34\n55\n89\n144\n233\n377\n610\n987\n"
    }
   ],
   "source": [
    "def fib():\n",
    "    i, j = 0, 1\n",
    "    while True:\n",
    "        k = i + j\n",
    "        yield k\n",
    "        i = j\n",
    "        j = k\n",
    "for fn in fib():\n",
    "    if fn > 1000:\n",
    "        break\n",
    "    else:\n",
    "        print(fn)"
   ]
  },
  {
   "cell_type": "markdown",
   "metadata": {},
   "source": [
    "64. 写一个base62encode函数, 62进制"
   ]
  },
  {
   "cell_type": "code",
   "execution_count": null,
   "metadata": {},
   "outputs": [],
   "source": [
    "# 0123456789AB..Zab..z(10 个数字+26 个大写字母+26 个小写字母)。 \n",
    "\n",
    "def base62Encode(n):\n",
    "    s = \"0123456789ABCDEFGHIJKLMNOPQRSTUVWXYZabcdefghijklmnopqrstuvwxyz\"\n"
   ]
  }
 ]
}