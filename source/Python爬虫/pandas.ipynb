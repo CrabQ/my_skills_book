{
 "metadata": {
  "language_info": {
   "codemirror_mode": {
    "name": "ipython",
    "version": 3
   },
   "file_extension": ".py",
   "mimetype": "text/x-python",
   "name": "python",
   "nbconvert_exporter": "python",
   "pygments_lexer": "ipython3",
   "version": 3
  },
  "orig_nbformat": 2,
  "kernelspec": {
   "name": "python_defaultSpec_1595813364047",
   "display_name": "Python 3.7.7 64-bit (conda)"
  }
 },
 "nbformat": 4,
 "nbformat_minor": 2,
 "cells": [
  {
   "cell_type": "code",
   "execution_count": 1,
   "metadata": {},
   "outputs": [],
   "source": [
    "import pandas \n",
    "from pandas import Series,DataFrame\n",
    "import numpy as np"
   ]
  },
  {
   "cell_type": "code",
   "execution_count": 2,
   "metadata": {},
   "outputs": [],
   "source": [
    "# 一维数据结构, index 显式索引\n",
    "s = Series(data=[1,2,3,4], index=['a', 'b', 'c', 'd'])"
   ]
  },
  {
   "cell_type": "code",
   "execution_count": 3,
   "metadata": {},
   "outputs": [
    {
     "output_type": "execute_result",
     "data": {
      "text/plain": "(2, 1)"
     },
     "metadata": {},
     "execution_count": 3
    }
   ],
   "source": [
    "s[1], s.a"
   ]
  },
  {
   "cell_type": "code",
   "execution_count": 4,
   "metadata": {},
   "outputs": [
    {
     "output_type": "execute_result",
     "data": {
      "text/plain": "(a    1\n b    2\n c    3\n dtype: int64,\n c    3\n d    4\n dtype: int64)"
     },
     "metadata": {},
     "execution_count": 4
    }
   ],
   "source": [
    "# 取前几后几\n",
    "s.head(3), s.tail(2)"
   ]
  },
  {
   "cell_type": "code",
   "execution_count": 5,
   "metadata": {},
   "outputs": [
    {
     "output_type": "execute_result",
     "data": {
      "text/plain": "array([1, 2, 3, 4], dtype=int64)"
     },
     "metadata": {},
     "execution_count": 5
    }
   ],
   "source": [
    "# 去重\n",
    "s.unique()"
   ]
  },
  {
   "cell_type": "code",
   "execution_count": 6,
   "metadata": {},
   "outputs": [
    {
     "output_type": "execute_result",
     "data": {
      "text/plain": "a    2.0\nb    NaN\nc    6.0\nd    NaN\ndtype: float64"
     },
     "metadata": {},
     "execution_count": 6
    }
   ],
   "source": [
    "# 索引一致才能相加\n",
    "s1 = Series([1,2,3], index=['a', 'b', 'c'])\n",
    "s2 = Series([1,2,3], index=['a', 'd', 'c'])\n",
    "s = s1+s2\n",
    "s"
   ]
  },
  {
   "cell_type": "code",
   "execution_count": 7,
   "metadata": {},
   "outputs": [
    {
     "output_type": "execute_result",
     "data": {
      "text/plain": "a    False\nb     True\nc    False\nd     True\ndtype: bool"
     },
     "metadata": {},
     "execution_count": 7
    }
   ],
   "source": [
    "s.isnull()"
   ]
  },
  {
   "cell_type": "code",
   "execution_count": 8,
   "metadata": {},
   "outputs": [
    {
     "output_type": "execute_result",
     "data": {
      "text/plain": "a     True\nb    False\nc     True\nd    False\ndtype: bool"
     },
     "metadata": {},
     "execution_count": 8
    }
   ],
   "source": [
    "s.notnull()"
   ]
  },
  {
   "cell_type": "code",
   "execution_count": 9,
   "metadata": {},
   "outputs": [
    {
     "output_type": "execute_result",
     "data": {
      "text/plain": "a    2.0\nc    6.0\ndtype: float64"
     },
     "metadata": {},
     "execution_count": 9
    }
   ],
   "source": [
    "s[s.notnull()]"
   ]
  },
  {
   "cell_type": "code",
   "execution_count": 10,
   "metadata": {},
   "outputs": [
    {
     "output_type": "execute_result",
     "data": {
      "text/plain": "    A   B   C   D\na  32  71  24  21\nb  54  81  63  60\nc  35   3  73  15",
      "text/html": "<div>\n<style scoped>\n    .dataframe tbody tr th:only-of-type {\n        vertical-align: middle;\n    }\n\n    .dataframe tbody tr th {\n        vertical-align: top;\n    }\n\n    .dataframe thead th {\n        text-align: right;\n    }\n</style>\n<table border=\"1\" class=\"dataframe\">\n  <thead>\n    <tr style=\"text-align: right;\">\n      <th></th>\n      <th>A</th>\n      <th>B</th>\n      <th>C</th>\n      <th>D</th>\n    </tr>\n  </thead>\n  <tbody>\n    <tr>\n      <th>a</th>\n      <td>32</td>\n      <td>71</td>\n      <td>24</td>\n      <td>21</td>\n    </tr>\n    <tr>\n      <th>b</th>\n      <td>54</td>\n      <td>81</td>\n      <td>63</td>\n      <td>60</td>\n    </tr>\n    <tr>\n      <th>c</th>\n      <td>35</td>\n      <td>3</td>\n      <td>73</td>\n      <td>15</td>\n    </tr>\n  </tbody>\n</table>\n</div>"
     },
     "metadata": {},
     "execution_count": 10
    }
   ],
   "source": [
    "# 二维Series\n",
    "df = DataFrame(data=np.random.randint(0,100, size=(3,4)), index=['a', 'b', 'c'], columns=['A','B','C','D'])\n",
    "df"
   ]
  },
  {
   "cell_type": "code",
   "execution_count": 11,
   "metadata": {},
   "outputs": [
    {
     "output_type": "execute_result",
     "data": {
      "text/plain": "     张三  李四\n语文  100  10\n数学  100  10\n英文  100  10\n理综  100  10",
      "text/html": "<div>\n<style scoped>\n    .dataframe tbody tr th:only-of-type {\n        vertical-align: middle;\n    }\n\n    .dataframe tbody tr th {\n        vertical-align: top;\n    }\n\n    .dataframe thead th {\n        text-align: right;\n    }\n</style>\n<table border=\"1\" class=\"dataframe\">\n  <thead>\n    <tr style=\"text-align: right;\">\n      <th></th>\n      <th>张三</th>\n      <th>李四</th>\n    </tr>\n  </thead>\n  <tbody>\n    <tr>\n      <th>语文</th>\n      <td>100</td>\n      <td>10</td>\n    </tr>\n    <tr>\n      <th>数学</th>\n      <td>100</td>\n      <td>10</td>\n    </tr>\n    <tr>\n      <th>英文</th>\n      <td>100</td>\n      <td>10</td>\n    </tr>\n    <tr>\n      <th>理综</th>\n      <td>100</td>\n      <td>10</td>\n    </tr>\n  </tbody>\n</table>\n</div>"
     },
     "metadata": {},
     "execution_count": 11
    }
   ],
   "source": [
    "dic = {'张三':[100, 100, 100, 100], '李四':[10,10,10,10]}\n",
    "df = DataFrame(data=dic, index=['语文', '数学', '英文', '理综'])\n",
    "df"
   ]
  },
  {
   "cell_type": "code",
   "execution_count": 12,
   "metadata": {},
   "outputs": [
    {
     "output_type": "execute_result",
     "data": {
      "text/plain": "语文    100\n数学    100\n英文    100\n理综    100\nName: 张三, dtype: int64"
     },
     "metadata": {},
     "execution_count": 12
    }
   ],
   "source": [
    "# 取值\n",
    "df['张三']"
   ]
  },
  {
   "cell_type": "code",
   "execution_count": 13,
   "metadata": {},
   "outputs": [
    {
     "output_type": "execute_result",
     "data": {
      "text/plain": "张三    100\n李四     10\nName: 语文, dtype: int64"
     },
     "metadata": {},
     "execution_count": 13
    }
   ],
   "source": [
    "df.loc['语文']"
   ]
  },
  {
   "cell_type": "code",
   "execution_count": 14,
   "metadata": {},
   "outputs": [
    {
     "output_type": "execute_result",
     "data": {
      "text/plain": "张三    100\n李四     10\nName: 英文, dtype: int64"
     },
     "metadata": {},
     "execution_count": 14
    }
   ],
   "source": [
    "df.iloc[2]"
   ]
  },
  {
   "cell_type": "code",
   "execution_count": 15,
   "metadata": {},
   "outputs": [
    {
     "output_type": "execute_result",
     "data": {
      "text/plain": "语文    100\n英文    100\nName: 张三, dtype: int64"
     },
     "metadata": {},
     "execution_count": 15
    }
   ],
   "source": [
    "df.loc[['语文','英文'], '张三']"
   ]
  },
  {
   "cell_type": "code",
   "execution_count": 16,
   "metadata": {},
   "outputs": [
    {
     "output_type": "execute_result",
     "data": {
      "text/plain": "     张三\n语文  100\n数学  100",
      "text/html": "<div>\n<style scoped>\n    .dataframe tbody tr th:only-of-type {\n        vertical-align: middle;\n    }\n\n    .dataframe tbody tr th {\n        vertical-align: top;\n    }\n\n    .dataframe thead th {\n        text-align: right;\n    }\n</style>\n<table border=\"1\" class=\"dataframe\">\n  <thead>\n    <tr style=\"text-align: right;\">\n      <th></th>\n      <th>张三</th>\n    </tr>\n  </thead>\n  <tbody>\n    <tr>\n      <th>语文</th>\n      <td>100</td>\n    </tr>\n    <tr>\n      <th>数学</th>\n      <td>100</td>\n    </tr>\n  </tbody>\n</table>\n</div>"
     },
     "metadata": {},
     "execution_count": 16
    }
   ],
   "source": [
    "# 切片\n",
    "df.iloc[0:2, 0:1]"
   ]
  },
  {
   "cell_type": "code",
   "execution_count": 17,
   "metadata": {
    "tags": []
   },
   "outputs": [
    {
     "output_type": "stream",
     "name": "stdout",
     "text": "本接口即将停止更新，请尽快使用Pro版接口：https://tushare.pro/document/2\n"
    },
    {
     "output_type": "execute_result",
     "data": {
      "text/plain": "            date      open     close      high       low     volume    code\n0     2001-08-27     5.392     5.554     5.902     5.132  406318.00  600519\n1     2001-08-28     5.467     5.759     5.781     5.407  129647.79  600519\n2     2001-08-29     5.777     5.684     5.781     5.640   53252.75  600519\n3     2001-08-30     5.668     5.796     5.860     5.624   48013.06  600519\n4     2001-08-31     5.804     5.782     5.877     5.749   23231.48  600519\n...          ...       ...       ...       ...       ...        ...     ...\n4508  2020-07-20  1652.500  1636.960  1663.990  1588.880   45280.00  600519\n4509  2020-07-21  1646.640  1668.000  1702.800  1630.990   41970.00  600519\n4510  2020-07-22  1658.000  1678.080  1710.000  1658.000   39201.00  600519\n4511  2020-07-23  1672.000  1676.000  1691.000  1650.000   34321.00  600519\n4512  2020-07-24  1654.850  1595.300  1666.000  1585.000   78752.00  600519\n\n[4513 rows x 7 columns]",
      "text/html": "<div>\n<style scoped>\n    .dataframe tbody tr th:only-of-type {\n        vertical-align: middle;\n    }\n\n    .dataframe tbody tr th {\n        vertical-align: top;\n    }\n\n    .dataframe thead th {\n        text-align: right;\n    }\n</style>\n<table border=\"1\" class=\"dataframe\">\n  <thead>\n    <tr style=\"text-align: right;\">\n      <th></th>\n      <th>date</th>\n      <th>open</th>\n      <th>close</th>\n      <th>high</th>\n      <th>low</th>\n      <th>volume</th>\n      <th>code</th>\n    </tr>\n  </thead>\n  <tbody>\n    <tr>\n      <th>0</th>\n      <td>2001-08-27</td>\n      <td>5.392</td>\n      <td>5.554</td>\n      <td>5.902</td>\n      <td>5.132</td>\n      <td>406318.00</td>\n      <td>600519</td>\n    </tr>\n    <tr>\n      <th>1</th>\n      <td>2001-08-28</td>\n      <td>5.467</td>\n      <td>5.759</td>\n      <td>5.781</td>\n      <td>5.407</td>\n      <td>129647.79</td>\n      <td>600519</td>\n    </tr>\n    <tr>\n      <th>2</th>\n      <td>2001-08-29</td>\n      <td>5.777</td>\n      <td>5.684</td>\n      <td>5.781</td>\n      <td>5.640</td>\n      <td>53252.75</td>\n      <td>600519</td>\n    </tr>\n    <tr>\n      <th>3</th>\n      <td>2001-08-30</td>\n      <td>5.668</td>\n      <td>5.796</td>\n      <td>5.860</td>\n      <td>5.624</td>\n      <td>48013.06</td>\n      <td>600519</td>\n    </tr>\n    <tr>\n      <th>4</th>\n      <td>2001-08-31</td>\n      <td>5.804</td>\n      <td>5.782</td>\n      <td>5.877</td>\n      <td>5.749</td>\n      <td>23231.48</td>\n      <td>600519</td>\n    </tr>\n    <tr>\n      <th>...</th>\n      <td>...</td>\n      <td>...</td>\n      <td>...</td>\n      <td>...</td>\n      <td>...</td>\n      <td>...</td>\n      <td>...</td>\n    </tr>\n    <tr>\n      <th>4508</th>\n      <td>2020-07-20</td>\n      <td>1652.500</td>\n      <td>1636.960</td>\n      <td>1663.990</td>\n      <td>1588.880</td>\n      <td>45280.00</td>\n      <td>600519</td>\n    </tr>\n    <tr>\n      <th>4509</th>\n      <td>2020-07-21</td>\n      <td>1646.640</td>\n      <td>1668.000</td>\n      <td>1702.800</td>\n      <td>1630.990</td>\n      <td>41970.00</td>\n      <td>600519</td>\n    </tr>\n    <tr>\n      <th>4510</th>\n      <td>2020-07-22</td>\n      <td>1658.000</td>\n      <td>1678.080</td>\n      <td>1710.000</td>\n      <td>1658.000</td>\n      <td>39201.00</td>\n      <td>600519</td>\n    </tr>\n    <tr>\n      <th>4511</th>\n      <td>2020-07-23</td>\n      <td>1672.000</td>\n      <td>1676.000</td>\n      <td>1691.000</td>\n      <td>1650.000</td>\n      <td>34321.00</td>\n      <td>600519</td>\n    </tr>\n    <tr>\n      <th>4512</th>\n      <td>2020-07-24</td>\n      <td>1654.850</td>\n      <td>1595.300</td>\n      <td>1666.000</td>\n      <td>1585.000</td>\n      <td>78752.00</td>\n      <td>600519</td>\n    </tr>\n  </tbody>\n</table>\n<p>4513 rows × 7 columns</p>\n</div>"
     },
     "metadata": {},
     "execution_count": 17
    }
   ],
   "source": [
    "import tushare as ts\n",
    "\n",
    "df = ts.get_k_data('600519', start='1900-01-01')\n",
    "df"
   ]
  },
  {
   "cell_type": "code",
   "execution_count": 18,
   "metadata": {},
   "outputs": [
    {
     "output_type": "execute_result",
     "data": {
      "text/plain": "            Unnamed: 0      open     close      high       low     volume  \\\ndate                                                                        \n2001-08-27           0     5.392     5.554     5.902     5.132  406318.00   \n2001-08-28           1     5.467     5.759     5.781     5.407  129647.79   \n2001-08-29           2     5.777     5.684     5.781     5.640   53252.75   \n2001-08-30           3     5.668     5.796     5.860     5.624   48013.06   \n2001-08-31           4     5.804     5.782     5.877     5.749   23231.48   \n...                ...       ...       ...       ...       ...        ...   \n2020-07-20        4508  1652.500  1636.960  1663.990  1588.880   45280.00   \n2020-07-21        4509  1646.640  1668.000  1702.800  1630.990   41970.00   \n2020-07-22        4510  1658.000  1678.080  1710.000  1658.000   39201.00   \n2020-07-23        4511  1672.000  1676.000  1691.000  1650.000   34321.00   \n2020-07-24        4512  1654.850  1595.300  1666.000  1585.000   78752.00   \n\n              code  \ndate                \n2001-08-27  600519  \n2001-08-28  600519  \n2001-08-29  600519  \n2001-08-30  600519  \n2001-08-31  600519  \n...            ...  \n2020-07-20  600519  \n2020-07-21  600519  \n2020-07-22  600519  \n2020-07-23  600519  \n2020-07-24  600519  \n\n[4513 rows x 7 columns]",
      "text/html": "<div>\n<style scoped>\n    .dataframe tbody tr th:only-of-type {\n        vertical-align: middle;\n    }\n\n    .dataframe tbody tr th {\n        vertical-align: top;\n    }\n\n    .dataframe thead th {\n        text-align: right;\n    }\n</style>\n<table border=\"1\" class=\"dataframe\">\n  <thead>\n    <tr style=\"text-align: right;\">\n      <th></th>\n      <th>Unnamed: 0</th>\n      <th>open</th>\n      <th>close</th>\n      <th>high</th>\n      <th>low</th>\n      <th>volume</th>\n      <th>code</th>\n    </tr>\n    <tr>\n      <th>date</th>\n      <th></th>\n      <th></th>\n      <th></th>\n      <th></th>\n      <th></th>\n      <th></th>\n      <th></th>\n    </tr>\n  </thead>\n  <tbody>\n    <tr>\n      <th>2001-08-27</th>\n      <td>0</td>\n      <td>5.392</td>\n      <td>5.554</td>\n      <td>5.902</td>\n      <td>5.132</td>\n      <td>406318.00</td>\n      <td>600519</td>\n    </tr>\n    <tr>\n      <th>2001-08-28</th>\n      <td>1</td>\n      <td>5.467</td>\n      <td>5.759</td>\n      <td>5.781</td>\n      <td>5.407</td>\n      <td>129647.79</td>\n      <td>600519</td>\n    </tr>\n    <tr>\n      <th>2001-08-29</th>\n      <td>2</td>\n      <td>5.777</td>\n      <td>5.684</td>\n      <td>5.781</td>\n      <td>5.640</td>\n      <td>53252.75</td>\n      <td>600519</td>\n    </tr>\n    <tr>\n      <th>2001-08-30</th>\n      <td>3</td>\n      <td>5.668</td>\n      <td>5.796</td>\n      <td>5.860</td>\n      <td>5.624</td>\n      <td>48013.06</td>\n      <td>600519</td>\n    </tr>\n    <tr>\n      <th>2001-08-31</th>\n      <td>4</td>\n      <td>5.804</td>\n      <td>5.782</td>\n      <td>5.877</td>\n      <td>5.749</td>\n      <td>23231.48</td>\n      <td>600519</td>\n    </tr>\n    <tr>\n      <th>...</th>\n      <td>...</td>\n      <td>...</td>\n      <td>...</td>\n      <td>...</td>\n      <td>...</td>\n      <td>...</td>\n      <td>...</td>\n    </tr>\n    <tr>\n      <th>2020-07-20</th>\n      <td>4508</td>\n      <td>1652.500</td>\n      <td>1636.960</td>\n      <td>1663.990</td>\n      <td>1588.880</td>\n      <td>45280.00</td>\n      <td>600519</td>\n    </tr>\n    <tr>\n      <th>2020-07-21</th>\n      <td>4509</td>\n      <td>1646.640</td>\n      <td>1668.000</td>\n      <td>1702.800</td>\n      <td>1630.990</td>\n      <td>41970.00</td>\n      <td>600519</td>\n    </tr>\n    <tr>\n      <th>2020-07-22</th>\n      <td>4510</td>\n      <td>1658.000</td>\n      <td>1678.080</td>\n      <td>1710.000</td>\n      <td>1658.000</td>\n      <td>39201.00</td>\n      <td>600519</td>\n    </tr>\n    <tr>\n      <th>2020-07-23</th>\n      <td>4511</td>\n      <td>1672.000</td>\n      <td>1676.000</td>\n      <td>1691.000</td>\n      <td>1650.000</td>\n      <td>34321.00</td>\n      <td>600519</td>\n    </tr>\n    <tr>\n      <th>2020-07-24</th>\n      <td>4512</td>\n      <td>1654.850</td>\n      <td>1595.300</td>\n      <td>1666.000</td>\n      <td>1585.000</td>\n      <td>78752.00</td>\n      <td>600519</td>\n    </tr>\n  </tbody>\n</table>\n<p>4513 rows × 7 columns</p>\n</div>"
     },
     "metadata": {},
     "execution_count": 18
    }
   ],
   "source": [
    "# 保存,读取\n",
    "df.to_csv('./df.csv')\n",
    "df = pandas.read_csv('./df.csv', index_col='date', parse_dates=['date'])\n",
    "df"
   ]
  },
  {
   "cell_type": "code",
   "execution_count": 19,
   "metadata": {},
   "outputs": [
    {
     "output_type": "execute_result",
     "data": {
      "text/plain": "            Unnamed: 0      open     close      high       low     volume  \\\ndate                                                                        \n2001-08-27           0     5.392     5.554     5.902     5.132  406318.00   \n2001-08-28           1     5.467     5.759     5.781     5.407  129647.79   \n2001-09-10          10     5.531     5.734     5.757     5.470   18878.89   \n2001-12-21          79     5.421     5.604     5.620     5.421    8135.04   \n2002-01-18          96     5.437     5.726     5.762     5.421   32262.08   \n...                ...       ...       ...       ...       ...        ...   \n2020-05-18        4465  1306.000  1346.210  1351.500  1305.130   34362.00   \n2020-07-02        4496  1499.000  1544.000  1550.900  1495.000   45884.00   \n2020-07-06        4498  1538.000  1600.000  1616.000  1531.810   51822.00   \n2020-07-07        4499  1603.090  1688.000  1744.820  1601.000   66664.00   \n2020-07-13        4503  1714.680  1781.990  1787.000  1714.680   60727.00   \n\n              code  \ndate                \n2001-08-27  600519  \n2001-08-28  600519  \n2001-09-10  600519  \n2001-12-21  600519  \n2002-01-18  600519  \n...            ...  \n2020-05-18  600519  \n2020-07-02  600519  \n2020-07-06  600519  \n2020-07-07  600519  \n2020-07-13  600519  \n\n[315 rows x 7 columns]",
      "text/html": "<div>\n<style scoped>\n    .dataframe tbody tr th:only-of-type {\n        vertical-align: middle;\n    }\n\n    .dataframe tbody tr th {\n        vertical-align: top;\n    }\n\n    .dataframe thead th {\n        text-align: right;\n    }\n</style>\n<table border=\"1\" class=\"dataframe\">\n  <thead>\n    <tr style=\"text-align: right;\">\n      <th></th>\n      <th>Unnamed: 0</th>\n      <th>open</th>\n      <th>close</th>\n      <th>high</th>\n      <th>low</th>\n      <th>volume</th>\n      <th>code</th>\n    </tr>\n    <tr>\n      <th>date</th>\n      <th></th>\n      <th></th>\n      <th></th>\n      <th></th>\n      <th></th>\n      <th></th>\n      <th></th>\n    </tr>\n  </thead>\n  <tbody>\n    <tr>\n      <th>2001-08-27</th>\n      <td>0</td>\n      <td>5.392</td>\n      <td>5.554</td>\n      <td>5.902</td>\n      <td>5.132</td>\n      <td>406318.00</td>\n      <td>600519</td>\n    </tr>\n    <tr>\n      <th>2001-08-28</th>\n      <td>1</td>\n      <td>5.467</td>\n      <td>5.759</td>\n      <td>5.781</td>\n      <td>5.407</td>\n      <td>129647.79</td>\n      <td>600519</td>\n    </tr>\n    <tr>\n      <th>2001-09-10</th>\n      <td>10</td>\n      <td>5.531</td>\n      <td>5.734</td>\n      <td>5.757</td>\n      <td>5.470</td>\n      <td>18878.89</td>\n      <td>600519</td>\n    </tr>\n    <tr>\n      <th>2001-12-21</th>\n      <td>79</td>\n      <td>5.421</td>\n      <td>5.604</td>\n      <td>5.620</td>\n      <td>5.421</td>\n      <td>8135.04</td>\n      <td>600519</td>\n    </tr>\n    <tr>\n      <th>2002-01-18</th>\n      <td>96</td>\n      <td>5.437</td>\n      <td>5.726</td>\n      <td>5.762</td>\n      <td>5.421</td>\n      <td>32262.08</td>\n      <td>600519</td>\n    </tr>\n    <tr>\n      <th>...</th>\n      <td>...</td>\n      <td>...</td>\n      <td>...</td>\n      <td>...</td>\n      <td>...</td>\n      <td>...</td>\n      <td>...</td>\n    </tr>\n    <tr>\n      <th>2020-05-18</th>\n      <td>4465</td>\n      <td>1306.000</td>\n      <td>1346.210</td>\n      <td>1351.500</td>\n      <td>1305.130</td>\n      <td>34362.00</td>\n      <td>600519</td>\n    </tr>\n    <tr>\n      <th>2020-07-02</th>\n      <td>4496</td>\n      <td>1499.000</td>\n      <td>1544.000</td>\n      <td>1550.900</td>\n      <td>1495.000</td>\n      <td>45884.00</td>\n      <td>600519</td>\n    </tr>\n    <tr>\n      <th>2020-07-06</th>\n      <td>4498</td>\n      <td>1538.000</td>\n      <td>1600.000</td>\n      <td>1616.000</td>\n      <td>1531.810</td>\n      <td>51822.00</td>\n      <td>600519</td>\n    </tr>\n    <tr>\n      <th>2020-07-07</th>\n      <td>4499</td>\n      <td>1603.090</td>\n      <td>1688.000</td>\n      <td>1744.820</td>\n      <td>1601.000</td>\n      <td>66664.00</td>\n      <td>600519</td>\n    </tr>\n    <tr>\n      <th>2020-07-13</th>\n      <td>4503</td>\n      <td>1714.680</td>\n      <td>1781.990</td>\n      <td>1787.000</td>\n      <td>1714.680</td>\n      <td>60727.00</td>\n      <td>600519</td>\n    </tr>\n  </tbody>\n</table>\n<p>315 rows × 7 columns</p>\n</div>"
     },
     "metadata": {},
     "execution_count": 19
    }
   ],
   "source": [
    "# 输出改股票所有收盘比开盘上涨3%以上的日期\n",
    "df.loc[(df['close']-df['open'])/df['open'] > 0.03]"
   ]
  },
  {
   "cell_type": "code",
   "execution_count": 20,
   "metadata": {},
   "outputs": [
    {
     "output_type": "execute_result",
     "data": {
      "text/plain": "            Unnamed: 0      open     close      high       low     volume  \\\ndate                                                                        \n2001-09-12          12     5.520     5.621     5.656     5.515   25045.19   \n2002-06-26         192     5.824     5.757     5.843     5.712   15423.00   \n2002-12-13         307     4.508     4.628     4.670     4.508    2223.10   \n2004-07-01         674     6.357     6.792     6.810     6.355    2781.62   \n2004-10-29         755     9.658     9.899     9.986     9.658   14363.14   \n...                ...       ...       ...       ...       ...        ...   \n2019-10-16        4323  1168.000  1170.000  1187.500  1160.000   59150.00   \n2020-01-02        4378  1128.000  1130.000  1145.060  1116.000  148099.00   \n2020-02-03        4394   985.000  1003.920  1010.680   980.000  123442.00   \n2020-03-13        4423  1090.000  1112.030  1128.980  1080.000   75885.00   \n2020-03-23        4429  1000.000  1019.000  1035.280   991.520   48472.00   \n\n              code  \ndate                \n2001-09-12  600519  \n2002-06-26  600519  \n2002-12-13  600519  \n2004-07-01  600519  \n2004-10-29  600519  \n...            ...  \n2019-10-16  600519  \n2020-01-02  600519  \n2020-02-03  600519  \n2020-03-13  600519  \n2020-03-23  600519  \n\n[84 rows x 7 columns]",
      "text/html": "<div>\n<style scoped>\n    .dataframe tbody tr th:only-of-type {\n        vertical-align: middle;\n    }\n\n    .dataframe tbody tr th {\n        vertical-align: top;\n    }\n\n    .dataframe thead th {\n        text-align: right;\n    }\n</style>\n<table border=\"1\" class=\"dataframe\">\n  <thead>\n    <tr style=\"text-align: right;\">\n      <th></th>\n      <th>Unnamed: 0</th>\n      <th>open</th>\n      <th>close</th>\n      <th>high</th>\n      <th>low</th>\n      <th>volume</th>\n      <th>code</th>\n    </tr>\n    <tr>\n      <th>date</th>\n      <th></th>\n      <th></th>\n      <th></th>\n      <th></th>\n      <th></th>\n      <th></th>\n      <th></th>\n    </tr>\n  </thead>\n  <tbody>\n    <tr>\n      <th>2001-09-12</th>\n      <td>12</td>\n      <td>5.520</td>\n      <td>5.621</td>\n      <td>5.656</td>\n      <td>5.515</td>\n      <td>25045.19</td>\n      <td>600519</td>\n    </tr>\n    <tr>\n      <th>2002-06-26</th>\n      <td>192</td>\n      <td>5.824</td>\n      <td>5.757</td>\n      <td>5.843</td>\n      <td>5.712</td>\n      <td>15423.00</td>\n      <td>600519</td>\n    </tr>\n    <tr>\n      <th>2002-12-13</th>\n      <td>307</td>\n      <td>4.508</td>\n      <td>4.628</td>\n      <td>4.670</td>\n      <td>4.508</td>\n      <td>2223.10</td>\n      <td>600519</td>\n    </tr>\n    <tr>\n      <th>2004-07-01</th>\n      <td>674</td>\n      <td>6.357</td>\n      <td>6.792</td>\n      <td>6.810</td>\n      <td>6.355</td>\n      <td>2781.62</td>\n      <td>600519</td>\n    </tr>\n    <tr>\n      <th>2004-10-29</th>\n      <td>755</td>\n      <td>9.658</td>\n      <td>9.899</td>\n      <td>9.986</td>\n      <td>9.658</td>\n      <td>14363.14</td>\n      <td>600519</td>\n    </tr>\n    <tr>\n      <th>...</th>\n      <td>...</td>\n      <td>...</td>\n      <td>...</td>\n      <td>...</td>\n      <td>...</td>\n      <td>...</td>\n      <td>...</td>\n    </tr>\n    <tr>\n      <th>2019-10-16</th>\n      <td>4323</td>\n      <td>1168.000</td>\n      <td>1170.000</td>\n      <td>1187.500</td>\n      <td>1160.000</td>\n      <td>59150.00</td>\n      <td>600519</td>\n    </tr>\n    <tr>\n      <th>2020-01-02</th>\n      <td>4378</td>\n      <td>1128.000</td>\n      <td>1130.000</td>\n      <td>1145.060</td>\n      <td>1116.000</td>\n      <td>148099.00</td>\n      <td>600519</td>\n    </tr>\n    <tr>\n      <th>2020-02-03</th>\n      <td>4394</td>\n      <td>985.000</td>\n      <td>1003.920</td>\n      <td>1010.680</td>\n      <td>980.000</td>\n      <td>123442.00</td>\n      <td>600519</td>\n    </tr>\n    <tr>\n      <th>2020-03-13</th>\n      <td>4423</td>\n      <td>1090.000</td>\n      <td>1112.030</td>\n      <td>1128.980</td>\n      <td>1080.000</td>\n      <td>75885.00</td>\n      <td>600519</td>\n    </tr>\n    <tr>\n      <th>2020-03-23</th>\n      <td>4429</td>\n      <td>1000.000</td>\n      <td>1019.000</td>\n      <td>1035.280</td>\n      <td>991.520</td>\n      <td>48472.00</td>\n      <td>600519</td>\n    </tr>\n  </tbody>\n</table>\n<p>84 rows × 7 columns</p>\n</div>"
     },
     "metadata": {},
     "execution_count": 20
    }
   ],
   "source": [
    "# 输出该股票所有开盘比前日收盘跌幅超过2%的日期\n",
    "df.loc[(df['open']-df['close'].shift(1))/df['close'].shift(1) < -0.02]"
   ]
  },
  {
   "cell_type": "code",
   "execution_count": 21,
   "metadata": {},
   "outputs": [
    {
     "output_type": "execute_result",
     "data": {
      "text/plain": "1167037.6999999993"
     },
     "metadata": {},
     "execution_count": 21
    }
   ],
   "source": [
    "# 从2010一月一日开始,每月第一个交易日买入一手股票,每年最后一个交易日卖出所有股票,至今收益?\n",
    "df_new = df['2010':'2020'].resample('M').first()\n",
    "buy = df_new['open'].sum()*100\n",
    "sale = df['2010':'2020'].resample('A').last()[:-1]['open'].sum()*1200\n",
    "sale\n",
    "keep = df.iloc[-1]['close'] * 900\n",
    "profit = sale+keep-buy\n",
    "profit"
   ]
  },
  {
   "cell_type": "code",
   "execution_count": 39,
   "metadata": {},
   "outputs": [
    {
     "output_type": "execute_result",
     "data": {
      "text/plain": "    0   1   2   3   4   5   6   7   8   9\n0   2  74  37  84  92  32  54  78  21  35\n1  42  36  20  75  51  88  59   1  23  32\n2  11  24  19  69   6  19  52  11  38  14\n3  78  37  91  88  51  59  20  51  79   8\n4   2  14  47  39  70   2  89  92  38   9\n5  27  76  58  25  46  43  66  18  96  23\n6  25  93   9  90  32  28  98  65  28  48\n7  12  46  15   3  94  23  26  23  82  60",
      "text/html": "<div>\n<style scoped>\n    .dataframe tbody tr th:only-of-type {\n        vertical-align: middle;\n    }\n\n    .dataframe tbody tr th {\n        vertical-align: top;\n    }\n\n    .dataframe thead th {\n        text-align: right;\n    }\n</style>\n<table border=\"1\" class=\"dataframe\">\n  <thead>\n    <tr style=\"text-align: right;\">\n      <th></th>\n      <th>0</th>\n      <th>1</th>\n      <th>2</th>\n      <th>3</th>\n      <th>4</th>\n      <th>5</th>\n      <th>6</th>\n      <th>7</th>\n      <th>8</th>\n      <th>9</th>\n    </tr>\n  </thead>\n  <tbody>\n    <tr>\n      <th>0</th>\n      <td>2</td>\n      <td>74</td>\n      <td>37</td>\n      <td>84</td>\n      <td>92</td>\n      <td>32</td>\n      <td>54</td>\n      <td>78</td>\n      <td>21</td>\n      <td>35</td>\n    </tr>\n    <tr>\n      <th>1</th>\n      <td>42</td>\n      <td>36</td>\n      <td>20</td>\n      <td>75</td>\n      <td>51</td>\n      <td>88</td>\n      <td>59</td>\n      <td>1</td>\n      <td>23</td>\n      <td>32</td>\n    </tr>\n    <tr>\n      <th>2</th>\n      <td>11</td>\n      <td>24</td>\n      <td>19</td>\n      <td>69</td>\n      <td>6</td>\n      <td>19</td>\n      <td>52</td>\n      <td>11</td>\n      <td>38</td>\n      <td>14</td>\n    </tr>\n    <tr>\n      <th>3</th>\n      <td>78</td>\n      <td>37</td>\n      <td>91</td>\n      <td>88</td>\n      <td>51</td>\n      <td>59</td>\n      <td>20</td>\n      <td>51</td>\n      <td>79</td>\n      <td>8</td>\n    </tr>\n    <tr>\n      <th>4</th>\n      <td>2</td>\n      <td>14</td>\n      <td>47</td>\n      <td>39</td>\n      <td>70</td>\n      <td>2</td>\n      <td>89</td>\n      <td>92</td>\n      <td>38</td>\n      <td>9</td>\n    </tr>\n    <tr>\n      <th>5</th>\n      <td>27</td>\n      <td>76</td>\n      <td>58</td>\n      <td>25</td>\n      <td>46</td>\n      <td>43</td>\n      <td>66</td>\n      <td>18</td>\n      <td>96</td>\n      <td>23</td>\n    </tr>\n    <tr>\n      <th>6</th>\n      <td>25</td>\n      <td>93</td>\n      <td>9</td>\n      <td>90</td>\n      <td>32</td>\n      <td>28</td>\n      <td>98</td>\n      <td>65</td>\n      <td>28</td>\n      <td>48</td>\n    </tr>\n    <tr>\n      <th>7</th>\n      <td>12</td>\n      <td>46</td>\n      <td>15</td>\n      <td>3</td>\n      <td>94</td>\n      <td>23</td>\n      <td>26</td>\n      <td>23</td>\n      <td>82</td>\n      <td>60</td>\n    </tr>\n  </tbody>\n</table>\n</div>"
     },
     "metadata": {},
     "execution_count": 39
    }
   ],
   "source": [
    "df = DataFrame(data=np.random.randint(0, 100, size=(8, 10)))\n",
    "df"
   ]
  },
  {
   "cell_type": "code",
   "execution_count": 40,
   "metadata": {},
   "outputs": [
    {
     "output_type": "execute_result",
     "data": {
      "text/plain": "    0   1     2     3     4   5   6   7   8   9\n0   2  74  37.0  84.0  92.0  32  54  78  21  35\n1  42  36   NaN  75.0  51.0  88  59   1  23  32\n2  11  24  19.0   NaN   6.0  19  52  11  38  14\n3  78  37  91.0  88.0   NaN  59  20  51  79   8\n4   2  14  47.0  39.0  70.0   2  89  92  38   9\n5  27  76  58.0  25.0  46.0  43  66  18  96  23\n6  25  93   9.0  90.0  32.0  28  98  65  28  48\n7  12  46  15.0   3.0  94.0  23  26  23  82  60",
      "text/html": "<div>\n<style scoped>\n    .dataframe tbody tr th:only-of-type {\n        vertical-align: middle;\n    }\n\n    .dataframe tbody tr th {\n        vertical-align: top;\n    }\n\n    .dataframe thead th {\n        text-align: right;\n    }\n</style>\n<table border=\"1\" class=\"dataframe\">\n  <thead>\n    <tr style=\"text-align: right;\">\n      <th></th>\n      <th>0</th>\n      <th>1</th>\n      <th>2</th>\n      <th>3</th>\n      <th>4</th>\n      <th>5</th>\n      <th>6</th>\n      <th>7</th>\n      <th>8</th>\n      <th>9</th>\n    </tr>\n  </thead>\n  <tbody>\n    <tr>\n      <th>0</th>\n      <td>2</td>\n      <td>74</td>\n      <td>37.0</td>\n      <td>84.0</td>\n      <td>92.0</td>\n      <td>32</td>\n      <td>54</td>\n      <td>78</td>\n      <td>21</td>\n      <td>35</td>\n    </tr>\n    <tr>\n      <th>1</th>\n      <td>42</td>\n      <td>36</td>\n      <td>NaN</td>\n      <td>75.0</td>\n      <td>51.0</td>\n      <td>88</td>\n      <td>59</td>\n      <td>1</td>\n      <td>23</td>\n      <td>32</td>\n    </tr>\n    <tr>\n      <th>2</th>\n      <td>11</td>\n      <td>24</td>\n      <td>19.0</td>\n      <td>NaN</td>\n      <td>6.0</td>\n      <td>19</td>\n      <td>52</td>\n      <td>11</td>\n      <td>38</td>\n      <td>14</td>\n    </tr>\n    <tr>\n      <th>3</th>\n      <td>78</td>\n      <td>37</td>\n      <td>91.0</td>\n      <td>88.0</td>\n      <td>NaN</td>\n      <td>59</td>\n      <td>20</td>\n      <td>51</td>\n      <td>79</td>\n      <td>8</td>\n    </tr>\n    <tr>\n      <th>4</th>\n      <td>2</td>\n      <td>14</td>\n      <td>47.0</td>\n      <td>39.0</td>\n      <td>70.0</td>\n      <td>2</td>\n      <td>89</td>\n      <td>92</td>\n      <td>38</td>\n      <td>9</td>\n    </tr>\n    <tr>\n      <th>5</th>\n      <td>27</td>\n      <td>76</td>\n      <td>58.0</td>\n      <td>25.0</td>\n      <td>46.0</td>\n      <td>43</td>\n      <td>66</td>\n      <td>18</td>\n      <td>96</td>\n      <td>23</td>\n    </tr>\n    <tr>\n      <th>6</th>\n      <td>25</td>\n      <td>93</td>\n      <td>9.0</td>\n      <td>90.0</td>\n      <td>32.0</td>\n      <td>28</td>\n      <td>98</td>\n      <td>65</td>\n      <td>28</td>\n      <td>48</td>\n    </tr>\n    <tr>\n      <th>7</th>\n      <td>12</td>\n      <td>46</td>\n      <td>15.0</td>\n      <td>3.0</td>\n      <td>94.0</td>\n      <td>23</td>\n      <td>26</td>\n      <td>23</td>\n      <td>82</td>\n      <td>60</td>\n    </tr>\n  </tbody>\n</table>\n</div>"
     },
     "metadata": {},
     "execution_count": 40
    }
   ],
   "source": [
    "df.iloc[1, 2] = None\n",
    "df.iloc[2, 3] = None\n",
    "df.iloc[3, 4] = None\n",
    "# None转换为NaN(np.nan)\n",
    "df"
   ]
  },
  {
   "cell_type": "code",
   "execution_count": 45,
   "metadata": {},
   "outputs": [
    {
     "output_type": "execute_result",
     "data": {
      "text/plain": "    0   1     2     3     4   5   6   7   8   9\n0   2  74  37.0  84.0  92.0  32  54  78  21  35\n4   2  14  47.0  39.0  70.0   2  89  92  38   9\n5  27  76  58.0  25.0  46.0  43  66  18  96  23\n6  25  93   9.0  90.0  32.0  28  98  65  28  48\n7  12  46  15.0   3.0  94.0  23  26  23  82  60",
      "text/html": "<div>\n<style scoped>\n    .dataframe tbody tr th:only-of-type {\n        vertical-align: middle;\n    }\n\n    .dataframe tbody tr th {\n        vertical-align: top;\n    }\n\n    .dataframe thead th {\n        text-align: right;\n    }\n</style>\n<table border=\"1\" class=\"dataframe\">\n  <thead>\n    <tr style=\"text-align: right;\">\n      <th></th>\n      <th>0</th>\n      <th>1</th>\n      <th>2</th>\n      <th>3</th>\n      <th>4</th>\n      <th>5</th>\n      <th>6</th>\n      <th>7</th>\n      <th>8</th>\n      <th>9</th>\n    </tr>\n  </thead>\n  <tbody>\n    <tr>\n      <th>0</th>\n      <td>2</td>\n      <td>74</td>\n      <td>37.0</td>\n      <td>84.0</td>\n      <td>92.0</td>\n      <td>32</td>\n      <td>54</td>\n      <td>78</td>\n      <td>21</td>\n      <td>35</td>\n    </tr>\n    <tr>\n      <th>4</th>\n      <td>2</td>\n      <td>14</td>\n      <td>47.0</td>\n      <td>39.0</td>\n      <td>70.0</td>\n      <td>2</td>\n      <td>89</td>\n      <td>92</td>\n      <td>38</td>\n      <td>9</td>\n    </tr>\n    <tr>\n      <th>5</th>\n      <td>27</td>\n      <td>76</td>\n      <td>58.0</td>\n      <td>25.0</td>\n      <td>46.0</td>\n      <td>43</td>\n      <td>66</td>\n      <td>18</td>\n      <td>96</td>\n      <td>23</td>\n    </tr>\n    <tr>\n      <th>6</th>\n      <td>25</td>\n      <td>93</td>\n      <td>9.0</td>\n      <td>90.0</td>\n      <td>32.0</td>\n      <td>28</td>\n      <td>98</td>\n      <td>65</td>\n      <td>28</td>\n      <td>48</td>\n    </tr>\n    <tr>\n      <th>7</th>\n      <td>12</td>\n      <td>46</td>\n      <td>15.0</td>\n      <td>3.0</td>\n      <td>94.0</td>\n      <td>23</td>\n      <td>26</td>\n      <td>23</td>\n      <td>82</td>\n      <td>60</td>\n    </tr>\n  </tbody>\n</table>\n</div>"
     },
     "metadata": {},
     "execution_count": 45
    }
   ],
   "source": [
    "# 筛选空行\n",
    "df.isnull().any(axis=1)\n",
    "df.notnull().all(axis=1)\n",
    "df[df.notnull().all(axis=1)]"
   ]
  },
  {
   "cell_type": "code",
   "execution_count": 47,
   "metadata": {},
   "outputs": [
    {
     "output_type": "execute_result",
     "data": {
      "text/plain": "    0   1   5   6   7   8   9\n0   2  74  32  54  78  21  35\n1  42  36  88  59   1  23  32\n2  11  24  19  52  11  38  14\n3  78  37  59  20  51  79   8\n4   2  14   2  89  92  38   9\n5  27  76  43  66  18  96  23\n6  25  93  28  98  65  28  48\n7  12  46  23  26  23  82  60",
      "text/html": "<div>\n<style scoped>\n    .dataframe tbody tr th:only-of-type {\n        vertical-align: middle;\n    }\n\n    .dataframe tbody tr th {\n        vertical-align: top;\n    }\n\n    .dataframe thead th {\n        text-align: right;\n    }\n</style>\n<table border=\"1\" class=\"dataframe\">\n  <thead>\n    <tr style=\"text-align: right;\">\n      <th></th>\n      <th>0</th>\n      <th>1</th>\n      <th>5</th>\n      <th>6</th>\n      <th>7</th>\n      <th>8</th>\n      <th>9</th>\n    </tr>\n  </thead>\n  <tbody>\n    <tr>\n      <th>0</th>\n      <td>2</td>\n      <td>74</td>\n      <td>32</td>\n      <td>54</td>\n      <td>78</td>\n      <td>21</td>\n      <td>35</td>\n    </tr>\n    <tr>\n      <th>1</th>\n      <td>42</td>\n      <td>36</td>\n      <td>88</td>\n      <td>59</td>\n      <td>1</td>\n      <td>23</td>\n      <td>32</td>\n    </tr>\n    <tr>\n      <th>2</th>\n      <td>11</td>\n      <td>24</td>\n      <td>19</td>\n      <td>52</td>\n      <td>11</td>\n      <td>38</td>\n      <td>14</td>\n    </tr>\n    <tr>\n      <th>3</th>\n      <td>78</td>\n      <td>37</td>\n      <td>59</td>\n      <td>20</td>\n      <td>51</td>\n      <td>79</td>\n      <td>8</td>\n    </tr>\n    <tr>\n      <th>4</th>\n      <td>2</td>\n      <td>14</td>\n      <td>2</td>\n      <td>89</td>\n      <td>92</td>\n      <td>38</td>\n      <td>9</td>\n    </tr>\n    <tr>\n      <th>5</th>\n      <td>27</td>\n      <td>76</td>\n      <td>43</td>\n      <td>66</td>\n      <td>18</td>\n      <td>96</td>\n      <td>23</td>\n    </tr>\n    <tr>\n      <th>6</th>\n      <td>25</td>\n      <td>93</td>\n      <td>28</td>\n      <td>98</td>\n      <td>65</td>\n      <td>28</td>\n      <td>48</td>\n    </tr>\n    <tr>\n      <th>7</th>\n      <td>12</td>\n      <td>46</td>\n      <td>23</td>\n      <td>26</td>\n      <td>23</td>\n      <td>82</td>\n      <td>60</td>\n    </tr>\n  </tbody>\n</table>\n</div>"
     },
     "metadata": {},
     "execution_count": 47
    }
   ],
   "source": [
    "# 删除空行, axis=0 行\n",
    "df.dropna(axis=0)"
   ]
  },
  {
   "cell_type": "code",
   "execution_count": 50,
   "metadata": {},
   "outputs": [
    {
     "output_type": "execute_result",
     "data": {
      "text/plain": "      0     1     2     3     4     5     6     7     8     9\n0   2.0  74.0  37.0  84.0  92.0  32.0  54.0  78.0  21.0  35.0\n1  42.0  36.0  75.0  75.0  51.0  88.0  59.0   1.0  23.0  32.0\n2  11.0  24.0  19.0   6.0   6.0  19.0  52.0  11.0  38.0  14.0\n3  78.0  37.0  91.0  88.0  59.0  59.0  20.0  51.0  79.0   8.0\n4   2.0  14.0  47.0  39.0  70.0   2.0  89.0  92.0  38.0   9.0\n5  27.0  76.0  58.0  25.0  46.0  43.0  66.0  18.0  96.0  23.0\n6  25.0  93.0   9.0  90.0  32.0  28.0  98.0  65.0  28.0  48.0\n7  12.0  46.0  15.0   3.0  94.0  23.0  26.0  23.0  82.0  60.0",
      "text/html": "<div>\n<style scoped>\n    .dataframe tbody tr th:only-of-type {\n        vertical-align: middle;\n    }\n\n    .dataframe tbody tr th {\n        vertical-align: top;\n    }\n\n    .dataframe thead th {\n        text-align: right;\n    }\n</style>\n<table border=\"1\" class=\"dataframe\">\n  <thead>\n    <tr style=\"text-align: right;\">\n      <th></th>\n      <th>0</th>\n      <th>1</th>\n      <th>2</th>\n      <th>3</th>\n      <th>4</th>\n      <th>5</th>\n      <th>6</th>\n      <th>7</th>\n      <th>8</th>\n      <th>9</th>\n    </tr>\n  </thead>\n  <tbody>\n    <tr>\n      <th>0</th>\n      <td>2.0</td>\n      <td>74.0</td>\n      <td>37.0</td>\n      <td>84.0</td>\n      <td>92.0</td>\n      <td>32.0</td>\n      <td>54.0</td>\n      <td>78.0</td>\n      <td>21.0</td>\n      <td>35.0</td>\n    </tr>\n    <tr>\n      <th>1</th>\n      <td>42.0</td>\n      <td>36.0</td>\n      <td>75.0</td>\n      <td>75.0</td>\n      <td>51.0</td>\n      <td>88.0</td>\n      <td>59.0</td>\n      <td>1.0</td>\n      <td>23.0</td>\n      <td>32.0</td>\n    </tr>\n    <tr>\n      <th>2</th>\n      <td>11.0</td>\n      <td>24.0</td>\n      <td>19.0</td>\n      <td>6.0</td>\n      <td>6.0</td>\n      <td>19.0</td>\n      <td>52.0</td>\n      <td>11.0</td>\n      <td>38.0</td>\n      <td>14.0</td>\n    </tr>\n    <tr>\n      <th>3</th>\n      <td>78.0</td>\n      <td>37.0</td>\n      <td>91.0</td>\n      <td>88.0</td>\n      <td>59.0</td>\n      <td>59.0</td>\n      <td>20.0</td>\n      <td>51.0</td>\n      <td>79.0</td>\n      <td>8.0</td>\n    </tr>\n    <tr>\n      <th>4</th>\n      <td>2.0</td>\n      <td>14.0</td>\n      <td>47.0</td>\n      <td>39.0</td>\n      <td>70.0</td>\n      <td>2.0</td>\n      <td>89.0</td>\n      <td>92.0</td>\n      <td>38.0</td>\n      <td>9.0</td>\n    </tr>\n    <tr>\n      <th>5</th>\n      <td>27.0</td>\n      <td>76.0</td>\n      <td>58.0</td>\n      <td>25.0</td>\n      <td>46.0</td>\n      <td>43.0</td>\n      <td>66.0</td>\n      <td>18.0</td>\n      <td>96.0</td>\n      <td>23.0</td>\n    </tr>\n    <tr>\n      <th>6</th>\n      <td>25.0</td>\n      <td>93.0</td>\n      <td>9.0</td>\n      <td>90.0</td>\n      <td>32.0</td>\n      <td>28.0</td>\n      <td>98.0</td>\n      <td>65.0</td>\n      <td>28.0</td>\n      <td>48.0</td>\n    </tr>\n    <tr>\n      <th>7</th>\n      <td>12.0</td>\n      <td>46.0</td>\n      <td>15.0</td>\n      <td>3.0</td>\n      <td>94.0</td>\n      <td>23.0</td>\n      <td>26.0</td>\n      <td>23.0</td>\n      <td>82.0</td>\n      <td>60.0</td>\n    </tr>\n  </tbody>\n</table>\n</div>"
     },
     "metadata": {},
     "execution_count": 50
    }
   ],
   "source": [
    "# 填充空值, 向前覆盖\n",
    "df.fillna(method='ffill', axis=1)\n",
    "# 向后覆盖\n",
    "df.fillna(method='bfill', axis=1)"
   ]
  },
  {
   "cell_type": "code",
   "execution_count": 60,
   "metadata": {},
   "outputs": [
    {
     "output_type": "execute_result",
     "data": {
      "text/plain": "    0   1     2     3     4   5   6   7   8   9  add   map\n0   2  74  37.0  84.0  92.0  32  54  78  21  35  102   200\n1  42  36   NaN  75.0  51.0  88  59   1  23  32  142  4200\n2  11  24  19.0   NaN   6.0  19  52  11  38  14  111   NaN\n3  78  37  91.0  88.0   NaN  59  20  51  79   8  178   NaN\n4   2  14  47.0  39.0  70.0   2  89  92  38   9  102   200\n5  27  76  58.0  25.0  46.0  43  66  18  96  23  127   NaN\n6  25  93   9.0  90.0  32.0  28  98  65  28  48  125   NaN\n7  12  46  15.0   3.0  94.0  23  26  23  82  60  112   NaN",
      "text/html": "<div>\n<style scoped>\n    .dataframe tbody tr th:only-of-type {\n        vertical-align: middle;\n    }\n\n    .dataframe tbody tr th {\n        vertical-align: top;\n    }\n\n    .dataframe thead th {\n        text-align: right;\n    }\n</style>\n<table border=\"1\" class=\"dataframe\">\n  <thead>\n    <tr style=\"text-align: right;\">\n      <th></th>\n      <th>0</th>\n      <th>1</th>\n      <th>2</th>\n      <th>3</th>\n      <th>4</th>\n      <th>5</th>\n      <th>6</th>\n      <th>7</th>\n      <th>8</th>\n      <th>9</th>\n      <th>add</th>\n      <th>map</th>\n    </tr>\n  </thead>\n  <tbody>\n    <tr>\n      <th>0</th>\n      <td>2</td>\n      <td>74</td>\n      <td>37.0</td>\n      <td>84.0</td>\n      <td>92.0</td>\n      <td>32</td>\n      <td>54</td>\n      <td>78</td>\n      <td>21</td>\n      <td>35</td>\n      <td>102</td>\n      <td>200</td>\n    </tr>\n    <tr>\n      <th>1</th>\n      <td>42</td>\n      <td>36</td>\n      <td>NaN</td>\n      <td>75.0</td>\n      <td>51.0</td>\n      <td>88</td>\n      <td>59</td>\n      <td>1</td>\n      <td>23</td>\n      <td>32</td>\n      <td>142</td>\n      <td>4200</td>\n    </tr>\n    <tr>\n      <th>2</th>\n      <td>11</td>\n      <td>24</td>\n      <td>19.0</td>\n      <td>NaN</td>\n      <td>6.0</td>\n      <td>19</td>\n      <td>52</td>\n      <td>11</td>\n      <td>38</td>\n      <td>14</td>\n      <td>111</td>\n      <td>NaN</td>\n    </tr>\n    <tr>\n      <th>3</th>\n      <td>78</td>\n      <td>37</td>\n      <td>91.0</td>\n      <td>88.0</td>\n      <td>NaN</td>\n      <td>59</td>\n      <td>20</td>\n      <td>51</td>\n      <td>79</td>\n      <td>8</td>\n      <td>178</td>\n      <td>NaN</td>\n    </tr>\n    <tr>\n      <th>4</th>\n      <td>2</td>\n      <td>14</td>\n      <td>47.0</td>\n      <td>39.0</td>\n      <td>70.0</td>\n      <td>2</td>\n      <td>89</td>\n      <td>92</td>\n      <td>38</td>\n      <td>9</td>\n      <td>102</td>\n      <td>200</td>\n    </tr>\n    <tr>\n      <th>5</th>\n      <td>27</td>\n      <td>76</td>\n      <td>58.0</td>\n      <td>25.0</td>\n      <td>46.0</td>\n      <td>43</td>\n      <td>66</td>\n      <td>18</td>\n      <td>96</td>\n      <td>23</td>\n      <td>127</td>\n      <td>NaN</td>\n    </tr>\n    <tr>\n      <th>6</th>\n      <td>25</td>\n      <td>93</td>\n      <td>9.0</td>\n      <td>90.0</td>\n      <td>32.0</td>\n      <td>28</td>\n      <td>98</td>\n      <td>65</td>\n      <td>28</td>\n      <td>48</td>\n      <td>125</td>\n      <td>NaN</td>\n    </tr>\n    <tr>\n      <th>7</th>\n      <td>12</td>\n      <td>46</td>\n      <td>15.0</td>\n      <td>3.0</td>\n      <td>94.0</td>\n      <td>23</td>\n      <td>26</td>\n      <td>23</td>\n      <td>82</td>\n      <td>60</td>\n      <td>112</td>\n      <td>NaN</td>\n    </tr>\n  </tbody>\n</table>\n</div>"
     },
     "metadata": {},
     "execution_count": 60
    }
   ],
   "source": [
    "# 映射\n",
    "dic = {2:'200', 42:'4200'}\n",
    "df['map'] = df[0].map(dic)\n",
    "df"
   ]
  },
  {
   "cell_type": "code",
   "execution_count": 57,
   "metadata": {},
   "outputs": [
    {
     "output_type": "execute_result",
     "data": {
      "text/plain": "    0   1     2     3     4   5   6   7   8   9  add\n0   2  74  37.0  84.0  92.0  32  54  78  21  35  102\n1  42  36   NaN  75.0  51.0  88  59   1  23  32  142\n2  11  24  19.0   NaN   6.0  19  52  11  38  14  111\n3  78  37  91.0  88.0   NaN  59  20  51  79   8  178\n4   2  14  47.0  39.0  70.0   2  89  92  38   9  102\n5  27  76  58.0  25.0  46.0  43  66  18  96  23  127\n6  25  93   9.0  90.0  32.0  28  98  65  28  48  125\n7  12  46  15.0   3.0  94.0  23  26  23  82  60  112",
      "text/html": "<div>\n<style scoped>\n    .dataframe tbody tr th:only-of-type {\n        vertical-align: middle;\n    }\n\n    .dataframe tbody tr th {\n        vertical-align: top;\n    }\n\n    .dataframe thead th {\n        text-align: right;\n    }\n</style>\n<table border=\"1\" class=\"dataframe\">\n  <thead>\n    <tr style=\"text-align: right;\">\n      <th></th>\n      <th>0</th>\n      <th>1</th>\n      <th>2</th>\n      <th>3</th>\n      <th>4</th>\n      <th>5</th>\n      <th>6</th>\n      <th>7</th>\n      <th>8</th>\n      <th>9</th>\n      <th>add</th>\n    </tr>\n  </thead>\n  <tbody>\n    <tr>\n      <th>0</th>\n      <td>2</td>\n      <td>74</td>\n      <td>37.0</td>\n      <td>84.0</td>\n      <td>92.0</td>\n      <td>32</td>\n      <td>54</td>\n      <td>78</td>\n      <td>21</td>\n      <td>35</td>\n      <td>102</td>\n    </tr>\n    <tr>\n      <th>1</th>\n      <td>42</td>\n      <td>36</td>\n      <td>NaN</td>\n      <td>75.0</td>\n      <td>51.0</td>\n      <td>88</td>\n      <td>59</td>\n      <td>1</td>\n      <td>23</td>\n      <td>32</td>\n      <td>142</td>\n    </tr>\n    <tr>\n      <th>2</th>\n      <td>11</td>\n      <td>24</td>\n      <td>19.0</td>\n      <td>NaN</td>\n      <td>6.0</td>\n      <td>19</td>\n      <td>52</td>\n      <td>11</td>\n      <td>38</td>\n      <td>14</td>\n      <td>111</td>\n    </tr>\n    <tr>\n      <th>3</th>\n      <td>78</td>\n      <td>37</td>\n      <td>91.0</td>\n      <td>88.0</td>\n      <td>NaN</td>\n      <td>59</td>\n      <td>20</td>\n      <td>51</td>\n      <td>79</td>\n      <td>8</td>\n      <td>178</td>\n    </tr>\n    <tr>\n      <th>4</th>\n      <td>2</td>\n      <td>14</td>\n      <td>47.0</td>\n      <td>39.0</td>\n      <td>70.0</td>\n      <td>2</td>\n      <td>89</td>\n      <td>92</td>\n      <td>38</td>\n      <td>9</td>\n      <td>102</td>\n    </tr>\n    <tr>\n      <th>5</th>\n      <td>27</td>\n      <td>76</td>\n      <td>58.0</td>\n      <td>25.0</td>\n      <td>46.0</td>\n      <td>43</td>\n      <td>66</td>\n      <td>18</td>\n      <td>96</td>\n      <td>23</td>\n      <td>127</td>\n    </tr>\n    <tr>\n      <th>6</th>\n      <td>25</td>\n      <td>93</td>\n      <td>9.0</td>\n      <td>90.0</td>\n      <td>32.0</td>\n      <td>28</td>\n      <td>98</td>\n      <td>65</td>\n      <td>28</td>\n      <td>48</td>\n      <td>125</td>\n    </tr>\n    <tr>\n      <th>7</th>\n      <td>12</td>\n      <td>46</td>\n      <td>15.0</td>\n      <td>3.0</td>\n      <td>94.0</td>\n      <td>23</td>\n      <td>26</td>\n      <td>23</td>\n      <td>82</td>\n      <td>60</td>\n      <td>112</td>\n    </tr>\n  </tbody>\n</table>\n</div>"
     },
     "metadata": {},
     "execution_count": 57
    }
   ],
   "source": [
    "# 运算\n",
    "df[0].apply(lambda x: x+100)\n",
    "df['add'] = df[0].map(lambda x: x+100)\n",
    "df"
   ]
  },
  {
   "cell_type": "code",
   "execution_count": 63,
   "metadata": {},
   "outputs": [
    {
     "output_type": "execute_result",
     "data": {
      "text/plain": "            a         b         c\n0    0.729907  0.875470  0.241099\n1    0.543633  0.765294  0.368737\n2    0.598091  0.384426  0.188055\n3    0.465610  0.248097  0.222902\n4    0.301766  0.186580  0.350080\n..        ...       ...       ...\n995  0.534297  0.007793  0.346549\n996  0.762335  0.414228  0.511494\n997  0.208335  0.401048  0.372792\n998  0.513869  0.631039  0.452512\n999  0.925831  0.368746  0.158607\n\n[1000 rows x 3 columns]",
      "text/html": "<div>\n<style scoped>\n    .dataframe tbody tr th:only-of-type {\n        vertical-align: middle;\n    }\n\n    .dataframe tbody tr th {\n        vertical-align: top;\n    }\n\n    .dataframe thead th {\n        text-align: right;\n    }\n</style>\n<table border=\"1\" class=\"dataframe\">\n  <thead>\n    <tr style=\"text-align: right;\">\n      <th></th>\n      <th>a</th>\n      <th>b</th>\n      <th>c</th>\n    </tr>\n  </thead>\n  <tbody>\n    <tr>\n      <th>0</th>\n      <td>0.729907</td>\n      <td>0.875470</td>\n      <td>0.241099</td>\n    </tr>\n    <tr>\n      <th>1</th>\n      <td>0.543633</td>\n      <td>0.765294</td>\n      <td>0.368737</td>\n    </tr>\n    <tr>\n      <th>2</th>\n      <td>0.598091</td>\n      <td>0.384426</td>\n      <td>0.188055</td>\n    </tr>\n    <tr>\n      <th>3</th>\n      <td>0.465610</td>\n      <td>0.248097</td>\n      <td>0.222902</td>\n    </tr>\n    <tr>\n      <th>4</th>\n      <td>0.301766</td>\n      <td>0.186580</td>\n      <td>0.350080</td>\n    </tr>\n    <tr>\n      <th>...</th>\n      <td>...</td>\n      <td>...</td>\n      <td>...</td>\n    </tr>\n    <tr>\n      <th>995</th>\n      <td>0.534297</td>\n      <td>0.007793</td>\n      <td>0.346549</td>\n    </tr>\n    <tr>\n      <th>996</th>\n      <td>0.762335</td>\n      <td>0.414228</td>\n      <td>0.511494</td>\n    </tr>\n    <tr>\n      <th>997</th>\n      <td>0.208335</td>\n      <td>0.401048</td>\n      <td>0.372792</td>\n    </tr>\n    <tr>\n      <th>998</th>\n      <td>0.513869</td>\n      <td>0.631039</td>\n      <td>0.452512</td>\n    </tr>\n    <tr>\n      <th>999</th>\n      <td>0.925831</td>\n      <td>0.368746</td>\n      <td>0.158607</td>\n    </tr>\n  </tbody>\n</table>\n<p>1000 rows × 3 columns</p>\n</div>"
     },
     "metadata": {},
     "execution_count": 63
    }
   ],
   "source": [
    "df = DataFrame(data=np.random.random(size=(1000, 3)), columns=['a', 'b', 'c'])\n",
    "df"
   ]
  },
  {
   "cell_type": "code",
   "execution_count": 72,
   "metadata": {},
   "outputs": [
    {
     "output_type": "execute_result",
     "data": {
      "text/plain": "            a         b         c\n0    0.729907  0.875470  0.241099\n2    0.598091  0.384426  0.188055\n3    0.465610  0.248097  0.222902\n10   0.339015  0.286586  0.022692\n18   0.666568  0.574969  0.125105\n..        ...       ...       ...\n988  0.159592  0.223443  0.209405\n991  0.521935  0.772710  0.078606\n992  0.709010  0.577312  0.107621\n993  0.191404  0.920769  0.311089\n999  0.925831  0.368746  0.158607\n\n[329 rows x 3 columns]",
      "text/html": "<div>\n<style scoped>\n    .dataframe tbody tr th:only-of-type {\n        vertical-align: middle;\n    }\n\n    .dataframe tbody tr th {\n        vertical-align: top;\n    }\n\n    .dataframe thead th {\n        text-align: right;\n    }\n</style>\n<table border=\"1\" class=\"dataframe\">\n  <thead>\n    <tr style=\"text-align: right;\">\n      <th></th>\n      <th>a</th>\n      <th>b</th>\n      <th>c</th>\n    </tr>\n  </thead>\n  <tbody>\n    <tr>\n      <th>0</th>\n      <td>0.729907</td>\n      <td>0.875470</td>\n      <td>0.241099</td>\n    </tr>\n    <tr>\n      <th>2</th>\n      <td>0.598091</td>\n      <td>0.384426</td>\n      <td>0.188055</td>\n    </tr>\n    <tr>\n      <th>3</th>\n      <td>0.465610</td>\n      <td>0.248097</td>\n      <td>0.222902</td>\n    </tr>\n    <tr>\n      <th>10</th>\n      <td>0.339015</td>\n      <td>0.286586</td>\n      <td>0.022692</td>\n    </tr>\n    <tr>\n      <th>18</th>\n      <td>0.666568</td>\n      <td>0.574969</td>\n      <td>0.125105</td>\n    </tr>\n    <tr>\n      <th>...</th>\n      <td>...</td>\n      <td>...</td>\n      <td>...</td>\n    </tr>\n    <tr>\n      <th>988</th>\n      <td>0.159592</td>\n      <td>0.223443</td>\n      <td>0.209405</td>\n    </tr>\n    <tr>\n      <th>991</th>\n      <td>0.521935</td>\n      <td>0.772710</td>\n      <td>0.078606</td>\n    </tr>\n    <tr>\n      <th>992</th>\n      <td>0.709010</td>\n      <td>0.577312</td>\n      <td>0.107621</td>\n    </tr>\n    <tr>\n      <th>993</th>\n      <td>0.191404</td>\n      <td>0.920769</td>\n      <td>0.311089</td>\n    </tr>\n    <tr>\n      <th>999</th>\n      <td>0.925831</td>\n      <td>0.368746</td>\n      <td>0.158607</td>\n    </tr>\n  </tbody>\n</table>\n<p>329 rows × 3 columns</p>\n</div>"
     },
     "metadata": {},
     "execution_count": 72
    }
   ],
   "source": [
    "# 去除标准差太大的数据,条件为c列数据大于两倍的c列标准差\n",
    "indexs = df.loc[df['c'] > df['c'].std()*2].index\n",
    "df.drop(labels=indexs, axis=0, inplace=True)\n",
    "df"
   ]
  },
  {
   "cell_type": "code",
   "execution_count": null,
   "metadata": {},
   "outputs": [],
   "source": [
    "# 清洗重复值\n",
    "# df.drop_duplicates() "
   ]
  },
  {
   "cell_type": "code",
   "execution_count": 77,
   "metadata": {},
   "outputs": [
    {
     "output_type": "execute_result",
     "data": {
      "text/plain": "            b         a         c\n0    0.875470  0.729907  0.241099\n2    0.384426  0.598091  0.188055\n3    0.248097  0.465610  0.222902\n10   0.286586  0.339015  0.022692\n18   0.574969  0.666568  0.125105\n..        ...       ...       ...\n988  0.223443  0.159592  0.209405\n991  0.772710  0.521935  0.078606\n992  0.577312  0.709010  0.107621\n993  0.920769  0.191404  0.311089\n999  0.368746  0.925831  0.158607\n\n[329 rows x 3 columns]",
      "text/html": "<div>\n<style scoped>\n    .dataframe tbody tr th:only-of-type {\n        vertical-align: middle;\n    }\n\n    .dataframe tbody tr th {\n        vertical-align: top;\n    }\n\n    .dataframe thead th {\n        text-align: right;\n    }\n</style>\n<table border=\"1\" class=\"dataframe\">\n  <thead>\n    <tr style=\"text-align: right;\">\n      <th></th>\n      <th>b</th>\n      <th>a</th>\n      <th>c</th>\n    </tr>\n  </thead>\n  <tbody>\n    <tr>\n      <th>0</th>\n      <td>0.875470</td>\n      <td>0.729907</td>\n      <td>0.241099</td>\n    </tr>\n    <tr>\n      <th>2</th>\n      <td>0.384426</td>\n      <td>0.598091</td>\n      <td>0.188055</td>\n    </tr>\n    <tr>\n      <th>3</th>\n      <td>0.248097</td>\n      <td>0.465610</td>\n      <td>0.222902</td>\n    </tr>\n    <tr>\n      <th>10</th>\n      <td>0.286586</td>\n      <td>0.339015</td>\n      <td>0.022692</td>\n    </tr>\n    <tr>\n      <th>18</th>\n      <td>0.574969</td>\n      <td>0.666568</td>\n      <td>0.125105</td>\n    </tr>\n    <tr>\n      <th>...</th>\n      <td>...</td>\n      <td>...</td>\n      <td>...</td>\n    </tr>\n    <tr>\n      <th>988</th>\n      <td>0.223443</td>\n      <td>0.159592</td>\n      <td>0.209405</td>\n    </tr>\n    <tr>\n      <th>991</th>\n      <td>0.772710</td>\n      <td>0.521935</td>\n      <td>0.078606</td>\n    </tr>\n    <tr>\n      <th>992</th>\n      <td>0.577312</td>\n      <td>0.709010</td>\n      <td>0.107621</td>\n    </tr>\n    <tr>\n      <th>993</th>\n      <td>0.920769</td>\n      <td>0.191404</td>\n      <td>0.311089</td>\n    </tr>\n    <tr>\n      <th>999</th>\n      <td>0.368746</td>\n      <td>0.925831</td>\n      <td>0.158607</td>\n    </tr>\n  </tbody>\n</table>\n<p>329 rows × 3 columns</p>\n</div>"
     },
     "metadata": {},
     "execution_count": 77
    }
   ],
   "source": [
    "# 排序\n",
    "df\n",
    "df.take(np.random.permutation(3),axis=1,)"
   ]
  },
  {
   "cell_type": "code",
   "execution_count": 80,
   "metadata": {},
   "outputs": [],
   "source": [
    "# 分组\n",
    "# df.groupby(by='b', axis=0).groups"
   ]
  },
  {
   "cell_type": "code",
   "execution_count": null,
   "metadata": {},
   "outputs": [],
   "source": []
  }
 ]
}